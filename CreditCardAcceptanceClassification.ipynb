{
  "nbformat": 4,
  "nbformat_minor": 0,
  "metadata": {
    "colab": {
      "name": "CreditCardAcceptanceClassification.ipynb",
      "provenance": [],
      "collapsed_sections": [
        "Z0CLJv4--Iol",
        "Lx3nXgsB9cbH",
        "AEADpubw-y9d",
        "MH26XOgCG4Eo",
        "Kk1pDDzxIuj6",
        "npfoiPgaJZCo",
        "CBGnCYOQK443",
        "Ycdv-DnFLdDU",
        "P8B0r52P6G1e",
        "erSA-EBXYs98",
        "PjF_fshilyAn",
        "gkDFzwEsl1Wu",
        "B0jsLpFfl3LA"
      ],
      "include_colab_link": true
    },
    "kernelspec": {
      "name": "python3",
      "display_name": "Python 3"
    },
    "language_info": {
      "name": "python"
    }
  },
  "cells": [
    {
      "cell_type": "markdown",
      "metadata": {
        "id": "view-in-github",
        "colab_type": "text"
      },
      "source": [
        "<a href=\"https://colab.research.google.com/github/rizkyfransisca/Tugas-Akhir-Associate-Data-Scientist_credit-card-acceptance-classification/blob/main/CreditCardAcceptanceClassification.ipynb\" target=\"_parent\"><img src=\"https://colab.research.google.com/assets/colab-badge.svg\" alt=\"Open In Colab\"/></a>"
      ]
    },
    {
      "cell_type": "markdown",
      "metadata": {
        "id": "AvGRK3v4gU-j"
      },
      "source": [
        "#Eksplorasi Data & Persiapan Data\n",
        "\n",
        "Melakukan ekplorasi data dan persiapan data untuk mengklasifikasi kelayakan penerimaan kartu kredit berdasarkan profil dari\n",
        "nasabah bank\n",
        "\n",
        "<br>Kelompok 1\n",
        "<br>ITB-01\n",
        "<br>Anggota:\n",
        "  - Whinar Kukuh Rizky Ardana\n",
        "  - Kadek Rizky Fransisca Putra\n",
        "  - Maulana Farrel Ceskicevas\n"
      ]
    },
    {
      "cell_type": "markdown",
      "metadata": {
        "id": "Txxhf4Q-ewoX"
      },
      "source": [
        "##Library"
      ]
    },
    {
      "cell_type": "code",
      "metadata": {
        "id": "DUrQRBMnJFTg"
      },
      "source": [
        "import pandas as pd\n",
        "import numpy as np\n",
        "import matplotlib.pyplot as plt\n",
        "import seaborn as sns\n",
        "\n",
        "import warnings\n",
        "warnings.filterwarnings('ignore')\n",
        "\n",
        "# plt.style.use('default')\n",
        "sns.set_theme()"
      ],
      "execution_count": null,
      "outputs": []
    },
    {
      "cell_type": "markdown",
      "metadata": {
        "id": "WQqLWsTWe7GA"
      },
      "source": [
        "## Eksplorasi data"
      ]
    },
    {
      "cell_type": "code",
      "metadata": {
        "id": "5-HzX3DMJV-u"
      },
      "source": [
        "df = pd.read_csv(\"https://raw.githubusercontent.com/rizkyfransisca/Tugas-Akhir-Associate-Data-Scientist_credit-card-acceptance-classification/main/creditcardmarketing-bbm.csv\")"
      ],
      "execution_count": null,
      "outputs": []
    },
    {
      "cell_type": "markdown",
      "metadata": {
        "id": "dzUyPE9RHBZi"
      },
      "source": [
        "Menampilkan 5 data pertama dari DataFrame"
      ]
    },
    {
      "cell_type": "code",
      "metadata": {
        "colab": {
          "base_uri": "https://localhost:8080/",
          "height": 328
        },
        "id": "xjYAAspSJOjo",
        "outputId": "dde906d4-f898-40b4-c2e8-ea836120f30e"
      },
      "source": [
        "df.head()"
      ],
      "execution_count": null,
      "outputs": [
        {
          "output_type": "execute_result",
          "data": {
            "text/html": [
              "<div>\n",
              "<style scoped>\n",
              "    .dataframe tbody tr th:only-of-type {\n",
              "        vertical-align: middle;\n",
              "    }\n",
              "\n",
              "    .dataframe tbody tr th {\n",
              "        vertical-align: top;\n",
              "    }\n",
              "\n",
              "    .dataframe thead th {\n",
              "        text-align: right;\n",
              "    }\n",
              "</style>\n",
              "<table border=\"1\" class=\"dataframe\">\n",
              "  <thead>\n",
              "    <tr style=\"text-align: right;\">\n",
              "      <th></th>\n",
              "      <th>Customer Number</th>\n",
              "      <th>Offer Accepted</th>\n",
              "      <th>Reward</th>\n",
              "      <th>Mailer Type</th>\n",
              "      <th>Income Level</th>\n",
              "      <th># Bank Accounts Open</th>\n",
              "      <th>Overdraft Protection</th>\n",
              "      <th>Credit Rating</th>\n",
              "      <th># Credit Cards Held</th>\n",
              "      <th># Homes Owned</th>\n",
              "      <th>Household Size</th>\n",
              "      <th>Own Your Home</th>\n",
              "      <th>Average Balance</th>\n",
              "      <th>Q1 Balance</th>\n",
              "      <th>Q2 Balance</th>\n",
              "      <th>Q3 Balance</th>\n",
              "      <th>Q4 Balance</th>\n",
              "    </tr>\n",
              "  </thead>\n",
              "  <tbody>\n",
              "    <tr>\n",
              "      <th>0</th>\n",
              "      <td>1</td>\n",
              "      <td>No</td>\n",
              "      <td>Air Miles</td>\n",
              "      <td>Letter</td>\n",
              "      <td>High</td>\n",
              "      <td>1</td>\n",
              "      <td>No</td>\n",
              "      <td>High</td>\n",
              "      <td>2</td>\n",
              "      <td>1</td>\n",
              "      <td>4</td>\n",
              "      <td>No</td>\n",
              "      <td>1160.75</td>\n",
              "      <td>1669.0</td>\n",
              "      <td>877.0</td>\n",
              "      <td>1095.0</td>\n",
              "      <td>1002.0</td>\n",
              "    </tr>\n",
              "    <tr>\n",
              "      <th>1</th>\n",
              "      <td>2</td>\n",
              "      <td>No</td>\n",
              "      <td>Air Miles</td>\n",
              "      <td>Letter</td>\n",
              "      <td>Medium</td>\n",
              "      <td>1</td>\n",
              "      <td>No</td>\n",
              "      <td>Medium</td>\n",
              "      <td>2</td>\n",
              "      <td>2</td>\n",
              "      <td>5</td>\n",
              "      <td>Yes</td>\n",
              "      <td>147.25</td>\n",
              "      <td>39.0</td>\n",
              "      <td>106.0</td>\n",
              "      <td>78.0</td>\n",
              "      <td>366.0</td>\n",
              "    </tr>\n",
              "    <tr>\n",
              "      <th>2</th>\n",
              "      <td>3</td>\n",
              "      <td>No</td>\n",
              "      <td>Air Miles</td>\n",
              "      <td>Postcard</td>\n",
              "      <td>High</td>\n",
              "      <td>2</td>\n",
              "      <td>No</td>\n",
              "      <td>Medium</td>\n",
              "      <td>2</td>\n",
              "      <td>1</td>\n",
              "      <td>2</td>\n",
              "      <td>Yes</td>\n",
              "      <td>276.50</td>\n",
              "      <td>367.0</td>\n",
              "      <td>352.0</td>\n",
              "      <td>145.0</td>\n",
              "      <td>242.0</td>\n",
              "    </tr>\n",
              "    <tr>\n",
              "      <th>3</th>\n",
              "      <td>4</td>\n",
              "      <td>No</td>\n",
              "      <td>Air Miles</td>\n",
              "      <td>Letter</td>\n",
              "      <td>Medium</td>\n",
              "      <td>2</td>\n",
              "      <td>No</td>\n",
              "      <td>High</td>\n",
              "      <td>1</td>\n",
              "      <td>1</td>\n",
              "      <td>4</td>\n",
              "      <td>No</td>\n",
              "      <td>1219.00</td>\n",
              "      <td>1578.0</td>\n",
              "      <td>1760.0</td>\n",
              "      <td>1119.0</td>\n",
              "      <td>419.0</td>\n",
              "    </tr>\n",
              "    <tr>\n",
              "      <th>4</th>\n",
              "      <td>5</td>\n",
              "      <td>No</td>\n",
              "      <td>Air Miles</td>\n",
              "      <td>Letter</td>\n",
              "      <td>Medium</td>\n",
              "      <td>1</td>\n",
              "      <td>No</td>\n",
              "      <td>Medium</td>\n",
              "      <td>2</td>\n",
              "      <td>1</td>\n",
              "      <td>6</td>\n",
              "      <td>Yes</td>\n",
              "      <td>1211.00</td>\n",
              "      <td>2140.0</td>\n",
              "      <td>1357.0</td>\n",
              "      <td>982.0</td>\n",
              "      <td>365.0</td>\n",
              "    </tr>\n",
              "  </tbody>\n",
              "</table>\n",
              "</div>"
            ],
            "text/plain": [
              "   Customer Number Offer Accepted  ... Q3 Balance Q4 Balance\n",
              "0                1             No  ...     1095.0     1002.0\n",
              "1                2             No  ...       78.0      366.0\n",
              "2                3             No  ...      145.0      242.0\n",
              "3                4             No  ...     1119.0      419.0\n",
              "4                5             No  ...      982.0      365.0\n",
              "\n",
              "[5 rows x 17 columns]"
            ]
          },
          "metadata": {},
          "execution_count": 3
        }
      ]
    },
    {
      "cell_type": "markdown",
      "metadata": {
        "id": "g9t1ygvZHF_1"
      },
      "source": [
        "Menampilkan 5 data terakhir dari DataFrame"
      ]
    },
    {
      "cell_type": "code",
      "metadata": {
        "colab": {
          "base_uri": "https://localhost:8080/",
          "height": 345
        },
        "id": "_EPK5y5Gnzd6",
        "outputId": "ee886489-0ea7-46ca-cff7-f0c52f44aa5b"
      },
      "source": [
        "df.tail()"
      ],
      "execution_count": null,
      "outputs": [
        {
          "output_type": "execute_result",
          "data": {
            "text/html": [
              "<div>\n",
              "<style scoped>\n",
              "    .dataframe tbody tr th:only-of-type {\n",
              "        vertical-align: middle;\n",
              "    }\n",
              "\n",
              "    .dataframe tbody tr th {\n",
              "        vertical-align: top;\n",
              "    }\n",
              "\n",
              "    .dataframe thead th {\n",
              "        text-align: right;\n",
              "    }\n",
              "</style>\n",
              "<table border=\"1\" class=\"dataframe\">\n",
              "  <thead>\n",
              "    <tr style=\"text-align: right;\">\n",
              "      <th></th>\n",
              "      <th>Customer Number</th>\n",
              "      <th>Offer Accepted</th>\n",
              "      <th>Reward</th>\n",
              "      <th>Mailer Type</th>\n",
              "      <th>Income Level</th>\n",
              "      <th># Bank Accounts Open</th>\n",
              "      <th>Overdraft Protection</th>\n",
              "      <th>Credit Rating</th>\n",
              "      <th># Credit Cards Held</th>\n",
              "      <th># Homes Owned</th>\n",
              "      <th>Household Size</th>\n",
              "      <th>Own Your Home</th>\n",
              "      <th>Average Balance</th>\n",
              "      <th>Q1 Balance</th>\n",
              "      <th>Q2 Balance</th>\n",
              "      <th>Q3 Balance</th>\n",
              "      <th>Q4 Balance</th>\n",
              "    </tr>\n",
              "  </thead>\n",
              "  <tbody>\n",
              "    <tr>\n",
              "      <th>17995</th>\n",
              "      <td>17996</td>\n",
              "      <td>No</td>\n",
              "      <td>Cash Back</td>\n",
              "      <td>Letter</td>\n",
              "      <td>High</td>\n",
              "      <td>1</td>\n",
              "      <td>No</td>\n",
              "      <td>Low</td>\n",
              "      <td>1</td>\n",
              "      <td>1</td>\n",
              "      <td>5</td>\n",
              "      <td>Yes</td>\n",
              "      <td>167.50</td>\n",
              "      <td>136.0</td>\n",
              "      <td>65.0</td>\n",
              "      <td>71.0</td>\n",
              "      <td>398.0</td>\n",
              "    </tr>\n",
              "    <tr>\n",
              "      <th>17996</th>\n",
              "      <td>17997</td>\n",
              "      <td>No</td>\n",
              "      <td>Cash Back</td>\n",
              "      <td>Letter</td>\n",
              "      <td>High</td>\n",
              "      <td>1</td>\n",
              "      <td>No</td>\n",
              "      <td>Low</td>\n",
              "      <td>3</td>\n",
              "      <td>1</td>\n",
              "      <td>3</td>\n",
              "      <td>Yes</td>\n",
              "      <td>850.50</td>\n",
              "      <td>984.0</td>\n",
              "      <td>940.0</td>\n",
              "      <td>943.0</td>\n",
              "      <td>535.0</td>\n",
              "    </tr>\n",
              "    <tr>\n",
              "      <th>17997</th>\n",
              "      <td>17998</td>\n",
              "      <td>No</td>\n",
              "      <td>Cash Back</td>\n",
              "      <td>Letter</td>\n",
              "      <td>High</td>\n",
              "      <td>1</td>\n",
              "      <td>No</td>\n",
              "      <td>Low</td>\n",
              "      <td>2</td>\n",
              "      <td>1</td>\n",
              "      <td>4</td>\n",
              "      <td>No</td>\n",
              "      <td>1087.25</td>\n",
              "      <td>918.0</td>\n",
              "      <td>767.0</td>\n",
              "      <td>1170.0</td>\n",
              "      <td>1494.0</td>\n",
              "    </tr>\n",
              "    <tr>\n",
              "      <th>17998</th>\n",
              "      <td>17999</td>\n",
              "      <td>No</td>\n",
              "      <td>Cash Back</td>\n",
              "      <td>Letter</td>\n",
              "      <td>Medium</td>\n",
              "      <td>1</td>\n",
              "      <td>No</td>\n",
              "      <td>Medium</td>\n",
              "      <td>4</td>\n",
              "      <td>2</td>\n",
              "      <td>2</td>\n",
              "      <td>Yes</td>\n",
              "      <td>1022.25</td>\n",
              "      <td>626.0</td>\n",
              "      <td>983.0</td>\n",
              "      <td>865.0</td>\n",
              "      <td>1615.0</td>\n",
              "    </tr>\n",
              "    <tr>\n",
              "      <th>17999</th>\n",
              "      <td>18000</td>\n",
              "      <td>No</td>\n",
              "      <td>Cash Back</td>\n",
              "      <td>Letter</td>\n",
              "      <td>Low</td>\n",
              "      <td>2</td>\n",
              "      <td>No</td>\n",
              "      <td>Medium</td>\n",
              "      <td>2</td>\n",
              "      <td>1</td>\n",
              "      <td>3</td>\n",
              "      <td>No</td>\n",
              "      <td>1056.00</td>\n",
              "      <td>265.0</td>\n",
              "      <td>1378.0</td>\n",
              "      <td>1978.0</td>\n",
              "      <td>603.0</td>\n",
              "    </tr>\n",
              "  </tbody>\n",
              "</table>\n",
              "</div>"
            ],
            "text/plain": [
              "       Customer Number Offer Accepted  ... Q3 Balance Q4 Balance\n",
              "17995            17996             No  ...       71.0      398.0\n",
              "17996            17997             No  ...      943.0      535.0\n",
              "17997            17998             No  ...     1170.0     1494.0\n",
              "17998            17999             No  ...      865.0     1615.0\n",
              "17999            18000             No  ...     1978.0      603.0\n",
              "\n",
              "[5 rows x 17 columns]"
            ]
          },
          "metadata": {},
          "execution_count": 4
        }
      ]
    },
    {
      "cell_type": "markdown",
      "metadata": {
        "id": "5oA4jH9eHKKf"
      },
      "source": [
        "Menampilkan 5 sample data yang dipilih secara acak dari DataFrame"
      ]
    },
    {
      "cell_type": "code",
      "metadata": {
        "id": "MN5o9CaIJj27",
        "colab": {
          "base_uri": "https://localhost:8080/",
          "height": 328
        },
        "outputId": "a3490c20-f82c-4220-bac8-81f0f2df6ccc"
      },
      "source": [
        "df.sample(5)"
      ],
      "execution_count": null,
      "outputs": [
        {
          "output_type": "execute_result",
          "data": {
            "text/html": [
              "<div>\n",
              "<style scoped>\n",
              "    .dataframe tbody tr th:only-of-type {\n",
              "        vertical-align: middle;\n",
              "    }\n",
              "\n",
              "    .dataframe tbody tr th {\n",
              "        vertical-align: top;\n",
              "    }\n",
              "\n",
              "    .dataframe thead th {\n",
              "        text-align: right;\n",
              "    }\n",
              "</style>\n",
              "<table border=\"1\" class=\"dataframe\">\n",
              "  <thead>\n",
              "    <tr style=\"text-align: right;\">\n",
              "      <th></th>\n",
              "      <th>Customer Number</th>\n",
              "      <th>Offer Accepted</th>\n",
              "      <th>Reward</th>\n",
              "      <th>Mailer Type</th>\n",
              "      <th>Income Level</th>\n",
              "      <th># Bank Accounts Open</th>\n",
              "      <th>Overdraft Protection</th>\n",
              "      <th>Credit Rating</th>\n",
              "      <th># Credit Cards Held</th>\n",
              "      <th># Homes Owned</th>\n",
              "      <th>Household Size</th>\n",
              "      <th>Own Your Home</th>\n",
              "      <th>Average Balance</th>\n",
              "      <th>Q1 Balance</th>\n",
              "      <th>Q2 Balance</th>\n",
              "      <th>Q3 Balance</th>\n",
              "      <th>Q4 Balance</th>\n",
              "    </tr>\n",
              "  </thead>\n",
              "  <tbody>\n",
              "    <tr>\n",
              "      <th>1126</th>\n",
              "      <td>1127</td>\n",
              "      <td>No</td>\n",
              "      <td>Points</td>\n",
              "      <td>Postcard</td>\n",
              "      <td>Medium</td>\n",
              "      <td>1</td>\n",
              "      <td>No</td>\n",
              "      <td>High</td>\n",
              "      <td>2</td>\n",
              "      <td>1</td>\n",
              "      <td>2</td>\n",
              "      <td>No</td>\n",
              "      <td>1062.50</td>\n",
              "      <td>1717.0</td>\n",
              "      <td>1310.0</td>\n",
              "      <td>880.0</td>\n",
              "      <td>343.0</td>\n",
              "    </tr>\n",
              "    <tr>\n",
              "      <th>9989</th>\n",
              "      <td>9990</td>\n",
              "      <td>No</td>\n",
              "      <td>Cash Back</td>\n",
              "      <td>Postcard</td>\n",
              "      <td>Medium</td>\n",
              "      <td>1</td>\n",
              "      <td>No</td>\n",
              "      <td>Medium</td>\n",
              "      <td>2</td>\n",
              "      <td>1</td>\n",
              "      <td>5</td>\n",
              "      <td>Yes</td>\n",
              "      <td>1109.00</td>\n",
              "      <td>454.0</td>\n",
              "      <td>1085.0</td>\n",
              "      <td>1798.0</td>\n",
              "      <td>1099.0</td>\n",
              "    </tr>\n",
              "    <tr>\n",
              "      <th>11846</th>\n",
              "      <td>11847</td>\n",
              "      <td>No</td>\n",
              "      <td>Air Miles</td>\n",
              "      <td>Postcard</td>\n",
              "      <td>Medium</td>\n",
              "      <td>1</td>\n",
              "      <td>No</td>\n",
              "      <td>Low</td>\n",
              "      <td>1</td>\n",
              "      <td>1</td>\n",
              "      <td>4</td>\n",
              "      <td>Yes</td>\n",
              "      <td>708.75</td>\n",
              "      <td>549.0</td>\n",
              "      <td>664.0</td>\n",
              "      <td>887.0</td>\n",
              "      <td>735.0</td>\n",
              "    </tr>\n",
              "    <tr>\n",
              "      <th>7927</th>\n",
              "      <td>7928</td>\n",
              "      <td>No</td>\n",
              "      <td>Air Miles</td>\n",
              "      <td>Postcard</td>\n",
              "      <td>High</td>\n",
              "      <td>1</td>\n",
              "      <td>No</td>\n",
              "      <td>Low</td>\n",
              "      <td>1</td>\n",
              "      <td>1</td>\n",
              "      <td>4</td>\n",
              "      <td>No</td>\n",
              "      <td>136.75</td>\n",
              "      <td>140.0</td>\n",
              "      <td>143.0</td>\n",
              "      <td>196.0</td>\n",
              "      <td>68.0</td>\n",
              "    </tr>\n",
              "    <tr>\n",
              "      <th>862</th>\n",
              "      <td>863</td>\n",
              "      <td>No</td>\n",
              "      <td>Cash Back</td>\n",
              "      <td>Postcard</td>\n",
              "      <td>Medium</td>\n",
              "      <td>1</td>\n",
              "      <td>Yes</td>\n",
              "      <td>Low</td>\n",
              "      <td>2</td>\n",
              "      <td>1</td>\n",
              "      <td>4</td>\n",
              "      <td>Yes</td>\n",
              "      <td>945.00</td>\n",
              "      <td>188.0</td>\n",
              "      <td>676.0</td>\n",
              "      <td>1283.0</td>\n",
              "      <td>1633.0</td>\n",
              "    </tr>\n",
              "  </tbody>\n",
              "</table>\n",
              "</div>"
            ],
            "text/plain": [
              "       Customer Number Offer Accepted  ... Q3 Balance Q4 Balance\n",
              "1126              1127             No  ...      880.0      343.0\n",
              "9989              9990             No  ...     1798.0     1099.0\n",
              "11846            11847             No  ...      887.0      735.0\n",
              "7927              7928             No  ...      196.0       68.0\n",
              "862                863             No  ...     1283.0     1633.0\n",
              "\n",
              "[5 rows x 17 columns]"
            ]
          },
          "metadata": {},
          "execution_count": 5
        }
      ]
    },
    {
      "cell_type": "markdown",
      "metadata": {
        "id": "HL6JekUKH0-3"
      },
      "source": [
        "Menampilkan nilai atau value yang ada pada setiap feature, untuk semua feature yang ada pada DataFrame"
      ]
    },
    {
      "cell_type": "code",
      "metadata": {
        "colab": {
          "base_uri": "https://localhost:8080/"
        },
        "id": "ead579mjm0aD",
        "outputId": "6ecd9772-2293-44d9-b032-07c74974f575"
      },
      "source": [
        "for col in df.columns:\n",
        "  print('-'*30 + \" \" + col +  \" \" +  '-'*30)\n",
        "  print()\n",
        "  print(df[col].unique())\n",
        "  print()"
      ],
      "execution_count": null,
      "outputs": [
        {
          "output_type": "stream",
          "name": "stdout",
          "text": [
            "------------------------------ Customer Number ------------------------------\n",
            "\n",
            "[    1     2     3 ... 17998 17999 18000]\n",
            "\n",
            "------------------------------ Offer Accepted ------------------------------\n",
            "\n",
            "['No' 'Yes']\n",
            "\n",
            "------------------------------ Reward ------------------------------\n",
            "\n",
            "['Air Miles' 'Cash Back' 'Points']\n",
            "\n",
            "------------------------------ Mailer Type ------------------------------\n",
            "\n",
            "['Letter' 'Postcard']\n",
            "\n",
            "------------------------------ Income Level ------------------------------\n",
            "\n",
            "['High' 'Medium' 'Low']\n",
            "\n",
            "------------------------------ # Bank Accounts Open ------------------------------\n",
            "\n",
            "[1 2 3]\n",
            "\n",
            "------------------------------ Overdraft Protection ------------------------------\n",
            "\n",
            "['No' 'Yes']\n",
            "\n",
            "------------------------------ Credit Rating ------------------------------\n",
            "\n",
            "['High' 'Medium' 'Low']\n",
            "\n",
            "------------------------------ # Credit Cards Held ------------------------------\n",
            "\n",
            "[2 1 3 4]\n",
            "\n",
            "------------------------------ # Homes Owned ------------------------------\n",
            "\n",
            "[1 2 3]\n",
            "\n",
            "------------------------------ Household Size ------------------------------\n",
            "\n",
            "[4 5 2 6 3 1 8 9]\n",
            "\n",
            "------------------------------ Own Your Home ------------------------------\n",
            "\n",
            "['No' 'Yes']\n",
            "\n",
            "------------------------------ Average Balance ------------------------------\n",
            "\n",
            "[1160.75  147.25  276.5  ...  691.   1649.   1427.25]\n",
            "\n",
            "------------------------------ Q1 Balance ------------------------------\n",
            "\n",
            "[1669.   39.  367. ... 1122. 2139. 1070.]\n",
            "\n",
            "------------------------------ Q2 Balance ------------------------------\n",
            "\n",
            "[ 877.  106.  352. ...   91. 1865. 1824.]\n",
            "\n",
            "------------------------------ Q3 Balance ------------------------------\n",
            "\n",
            "[1095.   78.  145. ... 2265. 2045. 1037.]\n",
            "\n",
            "------------------------------ Q4 Balance ------------------------------\n",
            "\n",
            "[1002.  366.  242. ... 1946. 2035. 2188.]\n",
            "\n"
          ]
        }
      ]
    },
    {
      "cell_type": "markdown",
      "metadata": {
        "id": "QVELnJFjIHCN"
      },
      "source": [
        "Menampilkan missing value yang ada pada setiap kolom, untuk semua kolom yang ada pada DataFrame."
      ]
    },
    {
      "cell_type": "code",
      "metadata": {
        "id": "ZYs46jIpK88h",
        "colab": {
          "base_uri": "https://localhost:8080/"
        },
        "outputId": "2d00b6ea-95ca-4242-d117-eccf24e675fa"
      },
      "source": [
        "df.isna().sum()"
      ],
      "execution_count": null,
      "outputs": [
        {
          "output_type": "execute_result",
          "data": {
            "text/plain": [
              "Customer Number          0\n",
              "Offer Accepted           0\n",
              "Reward                   0\n",
              "Mailer Type              0\n",
              "Income Level             0\n",
              "# Bank Accounts Open     0\n",
              "Overdraft Protection     0\n",
              "Credit Rating            0\n",
              "# Credit Cards Held      0\n",
              "# Homes Owned            0\n",
              "Household Size           0\n",
              "Own Your Home            0\n",
              "Average Balance         24\n",
              "Q1 Balance              24\n",
              "Q2 Balance              24\n",
              "Q3 Balance              24\n",
              "Q4 Balance              24\n",
              "dtype: int64"
            ]
          },
          "metadata": {},
          "execution_count": 7
        }
      ]
    },
    {
      "cell_type": "code",
      "metadata": {
        "colab": {
          "base_uri": "https://localhost:8080/"
        },
        "id": "y7t4Ss_4g1Ee",
        "outputId": "31f2453b-2902-4e60-c02c-6d752104b295"
      },
      "source": [
        "avg = df[df['Average Balance'].isna()].index\n",
        "q1 = df[df['Q1 Balance'].isna()].index\n",
        "q2 = df[df['Q2 Balance'].isna()].index\n",
        "q3 = df[df['Q3 Balance'].isna()].index\n",
        "q4 = df[df['Q4 Balance'].isna()].index\n",
        "\n",
        "pd.DataFrame({\n",
        "    'avg':avg,\n",
        "    'q1':q1,\n",
        "    'q2':q2,\n",
        "    'q3':q3,\n",
        "    'q4':q4\n",
        "}).duplicated()"
      ],
      "execution_count": null,
      "outputs": [
        {
          "output_type": "execute_result",
          "data": {
            "text/plain": [
              "0     False\n",
              "1     False\n",
              "2     False\n",
              "3     False\n",
              "4     False\n",
              "5     False\n",
              "6     False\n",
              "7     False\n",
              "8     False\n",
              "9     False\n",
              "10    False\n",
              "11    False\n",
              "12    False\n",
              "13    False\n",
              "14    False\n",
              "15    False\n",
              "16    False\n",
              "17    False\n",
              "18    False\n",
              "19    False\n",
              "20    False\n",
              "21    False\n",
              "22    False\n",
              "23    False\n",
              "dtype: bool"
            ]
          },
          "metadata": {},
          "execution_count": 8
        }
      ]
    },
    {
      "cell_type": "markdown",
      "metadata": {
        "id": "qjrmYTQm-HTs"
      },
      "source": [
        "Pada data ini, ditemukan Missing value sebanyak 24 data, dan missing value ini hanya muncul pada kolom balance, dan muncul di baris yang sama. sehingga pada kasus ini missing value akan kita hapus karena setiap kolom mempunyai missing value pada baris yang sama. "
      ]
    },
    {
      "cell_type": "code",
      "metadata": {
        "id": "u0tG9rAV8bzR",
        "colab": {
          "base_uri": "https://localhost:8080/",
          "height": 393
        },
        "outputId": "7f14d6e9-c2a1-43e7-cf81-52a31dd8372d"
      },
      "source": [
        "plt.figure(figsize=(8,6))\n",
        "df['Offer Accepted'].value_counts(normalize=True).plot(kind='pie', autopct=\"%.1f%%\")\n",
        "plt.title('Proportions of Accepted Offer Customers', fontsize=15)"
      ],
      "execution_count": null,
      "outputs": [
        {
          "output_type": "execute_result",
          "data": {
            "text/plain": [
              "Text(0.5, 1.0, 'Proportions of Accepted Offer Customers')"
            ]
          },
          "metadata": {},
          "execution_count": 9
        },
        {
          "output_type": "display_data",
          "data": {
            "image/png": "[encoded data removed]",
            "text/plain": [
              "<Figure size 576x432 with 1 Axes>"
            ]
          },
          "metadata": {}
        }
      ]
    },
    {
      "cell_type": "markdown",
      "metadata": {
        "id": "if9yscwicIWb"
      },
      "source": [
        "Dari pie chart diatas, ditemukan bahwa dataset ini memiliki label yang tidak seimbang, hampir semua penawaran atau offer tidak diterima, dan penawaran atau offer yang diterima hanya 5,7% dari data."
      ]
    },
    {
      "cell_type": "markdown",
      "metadata": {
        "id": "cL6KiHtYbEIF"
      },
      "source": [
        "Menampilkan nilai statistika deskriptif untuk setiap kolom yang memiliki tipe data numerik."
      ]
    },
    {
      "cell_type": "code",
      "metadata": {
        "colab": {
          "base_uri": "https://localhost:8080/",
          "height": 300
        },
        "id": "YjzsMTMS4n53",
        "outputId": "0034d8d6-a76b-4f85-abf7-01aad683afc3"
      },
      "source": [
        "df.describe()"
      ],
      "execution_count": null,
      "outputs": [
        {
          "output_type": "execute_result",
          "data": {
            "text/html": [
              "<div>\n",
              "<style scoped>\n",
              "    .dataframe tbody tr th:only-of-type {\n",
              "        vertical-align: middle;\n",
              "    }\n",
              "\n",
              "    .dataframe tbody tr th {\n",
              "        vertical-align: top;\n",
              "    }\n",
              "\n",
              "    .dataframe thead th {\n",
              "        text-align: right;\n",
              "    }\n",
              "</style>\n",
              "<table border=\"1\" class=\"dataframe\">\n",
              "  <thead>\n",
              "    <tr style=\"text-align: right;\">\n",
              "      <th></th>\n",
              "      <th>Customer Number</th>\n",
              "      <th># Bank Accounts Open</th>\n",
              "      <th># Credit Cards Held</th>\n",
              "      <th># Homes Owned</th>\n",
              "      <th>Household Size</th>\n",
              "      <th>Average Balance</th>\n",
              "      <th>Q1 Balance</th>\n",
              "      <th>Q2 Balance</th>\n",
              "      <th>Q3 Balance</th>\n",
              "      <th>Q4 Balance</th>\n",
              "    </tr>\n",
              "  </thead>\n",
              "  <tbody>\n",
              "    <tr>\n",
              "      <th>count</th>\n",
              "      <td>18000.000000</td>\n",
              "      <td>18000.000000</td>\n",
              "      <td>18000.000000</td>\n",
              "      <td>18000.000000</td>\n",
              "      <td>18000.000000</td>\n",
              "      <td>17976.000000</td>\n",
              "      <td>17976.000000</td>\n",
              "      <td>17976.000000</td>\n",
              "      <td>17976.000000</td>\n",
              "      <td>17976.000000</td>\n",
              "    </tr>\n",
              "    <tr>\n",
              "      <th>mean</th>\n",
              "      <td>9000.500000</td>\n",
              "      <td>1.255778</td>\n",
              "      <td>1.903500</td>\n",
              "      <td>1.203444</td>\n",
              "      <td>3.499056</td>\n",
              "      <td>940.515562</td>\n",
              "      <td>910.450656</td>\n",
              "      <td>999.392190</td>\n",
              "      <td>1042.033600</td>\n",
              "      <td>810.185803</td>\n",
              "    </tr>\n",
              "    <tr>\n",
              "      <th>std</th>\n",
              "      <td>5196.296758</td>\n",
              "      <td>0.472501</td>\n",
              "      <td>0.797009</td>\n",
              "      <td>0.427341</td>\n",
              "      <td>1.114182</td>\n",
              "      <td>350.297837</td>\n",
              "      <td>620.077060</td>\n",
              "      <td>457.402268</td>\n",
              "      <td>553.452599</td>\n",
              "      <td>559.001365</td>\n",
              "    </tr>\n",
              "    <tr>\n",
              "      <th>min</th>\n",
              "      <td>1.000000</td>\n",
              "      <td>1.000000</td>\n",
              "      <td>1.000000</td>\n",
              "      <td>1.000000</td>\n",
              "      <td>1.000000</td>\n",
              "      <td>48.250000</td>\n",
              "      <td>0.000000</td>\n",
              "      <td>0.000000</td>\n",
              "      <td>0.000000</td>\n",
              "      <td>0.000000</td>\n",
              "    </tr>\n",
              "    <tr>\n",
              "      <th>25%</th>\n",
              "      <td>4500.750000</td>\n",
              "      <td>1.000000</td>\n",
              "      <td>1.000000</td>\n",
              "      <td>1.000000</td>\n",
              "      <td>3.000000</td>\n",
              "      <td>787.500000</td>\n",
              "      <td>392.750000</td>\n",
              "      <td>663.000000</td>\n",
              "      <td>633.000000</td>\n",
              "      <td>363.000000</td>\n",
              "    </tr>\n",
              "    <tr>\n",
              "      <th>50%</th>\n",
              "      <td>9000.500000</td>\n",
              "      <td>1.000000</td>\n",
              "      <td>2.000000</td>\n",
              "      <td>1.000000</td>\n",
              "      <td>3.000000</td>\n",
              "      <td>1007.000000</td>\n",
              "      <td>772.000000</td>\n",
              "      <td>1032.000000</td>\n",
              "      <td>945.500000</td>\n",
              "      <td>703.000000</td>\n",
              "    </tr>\n",
              "    <tr>\n",
              "      <th>75%</th>\n",
              "      <td>13500.250000</td>\n",
              "      <td>1.000000</td>\n",
              "      <td>2.000000</td>\n",
              "      <td>1.000000</td>\n",
              "      <td>4.000000</td>\n",
              "      <td>1153.250000</td>\n",
              "      <td>1521.000000</td>\n",
              "      <td>1342.000000</td>\n",
              "      <td>1463.000000</td>\n",
              "      <td>1212.000000</td>\n",
              "    </tr>\n",
              "    <tr>\n",
              "      <th>max</th>\n",
              "      <td>18000.000000</td>\n",
              "      <td>3.000000</td>\n",
              "      <td>4.000000</td>\n",
              "      <td>3.000000</td>\n",
              "      <td>9.000000</td>\n",
              "      <td>3366.250000</td>\n",
              "      <td>3450.000000</td>\n",
              "      <td>3421.000000</td>\n",
              "      <td>3823.000000</td>\n",
              "      <td>4215.000000</td>\n",
              "    </tr>\n",
              "  </tbody>\n",
              "</table>\n",
              "</div>"
            ],
            "text/plain": [
              "       Customer Number  # Bank Accounts Open  ...    Q3 Balance    Q4 Balance\n",
              "count     18000.000000          18000.000000  ...  17976.000000  17976.000000\n",
              "mean       9000.500000              1.255778  ...   1042.033600    810.185803\n",
              "std        5196.296758              0.472501  ...    553.452599    559.001365\n",
              "min           1.000000              1.000000  ...      0.000000      0.000000\n",
              "25%        4500.750000              1.000000  ...    633.000000    363.000000\n",
              "50%        9000.500000              1.000000  ...    945.500000    703.000000\n",
              "75%       13500.250000              1.000000  ...   1463.000000   1212.000000\n",
              "max       18000.000000              3.000000  ...   3823.000000   4215.000000\n",
              "\n",
              "[8 rows x 10 columns]"
            ]
          },
          "metadata": {},
          "execution_count": 10
        }
      ]
    },
    {
      "cell_type": "markdown",
      "metadata": {
        "id": "hnH3ioSObZ5G"
      },
      "source": [
        "Melakukan pengecekan outliers pada kolom \"Average Balance\", \"Q1 Balance\", \"Q2 Balance\", \"Q3 Balance\", dan \"Q4 Balance\" menggunakan boxplot"
      ]
    },
    {
      "cell_type": "code",
      "metadata": {
        "colab": {
          "base_uri": "https://localhost:8080/",
          "height": 469
        },
        "id": "a7o9bL1MDzsC",
        "outputId": "18c69039-8b92-4b0f-8300-c7dd2a88c2b1"
      },
      "source": [
        "fig, ax = plt.subplots(2,3, figsize=(16,6))\n",
        "sns.boxplot(df['Average Balance'], ax=ax[0,0])\n",
        "sns.boxplot(df['Q1 Balance'], ax=ax[0,1])\n",
        "sns.boxplot(df['Q2 Balance'], ax=ax[0,2])\n",
        "sns.boxplot(df['Q3 Balance'], ax=ax[1,0])\n",
        "sns.boxplot(df['Q4 Balance'], ax=ax[1,1])\n",
        "ax[1][2].set_visible(False)\n",
        "\n",
        "plt.suptitle('Detecting Outliers in Balances variables', y=1.04)\n",
        "\n",
        "plt.tight_layout()"
      ],
      "execution_count": null,
      "outputs": [
        {
          "output_type": "display_data",
          "data": {
            "image/png": "[encoded data removed]",
            "text/plain": [
              "<Figure size 1152x432 with 6 Axes>"
            ]
          },
          "metadata": {
            "needs_background": "light"
          }
        }
      ]
    },
    {
      "cell_type": "markdown",
      "metadata": {
        "id": "TaaFFjPcYrTc"
      },
      "source": [
        "Dengan menggunakan Boxplot, terdapat outliers/data pencilan pada kolom balance (Average Balance,Q1 Balance,Q2 Balance,Q3 Balance,Q4 Balance). data pencilan terbanyak ada pada kolom Average Balance yang muncul di atas dan bawah treshold,"
      ]
    },
    {
      "cell_type": "markdown",
      "metadata": {
        "id": "NBbX2oaHbt8S"
      },
      "source": [
        "Melakukan pengecekan, apakah setiap nilai pada kolom \"Custumer Number\" merupakan nilai yang unik."
      ]
    },
    {
      "cell_type": "code",
      "metadata": {
        "id": "Z_VlH4V-ikyH",
        "colab": {
          "base_uri": "https://localhost:8080/"
        },
        "outputId": "9453383b-e806-43d3-ee3b-0ed6b20084a4"
      },
      "source": [
        "df['Customer Number'].is_unique"
      ],
      "execution_count": null,
      "outputs": [
        {
          "output_type": "execute_result",
          "data": {
            "text/plain": [
              "True"
            ]
          },
          "metadata": {},
          "execution_count": 12
        }
      ]
    },
    {
      "cell_type": "markdown",
      "metadata": {
        "id": "GhwKFeeBqtUf"
      },
      "source": [
        "Karena kolom \"Customer Number\" menghasilkan atau mempunyai nilai yang unik, maka kami menggunakan nilai pada kolom \"Customer Number\" sebagai indeks"
      ]
    },
    {
      "cell_type": "code",
      "metadata": {
        "id": "Zxu0VTi8k7nk",
        "colab": {
          "base_uri": "https://localhost:8080/",
          "height": 376
        },
        "outputId": "81357d96-aaca-4052-a85a-573bb6ea3d13"
      },
      "source": [
        "df = df.set_index('Customer Number')\n",
        "df.head()"
      ],
      "execution_count": null,
      "outputs": [
        {
          "output_type": "execute_result",
          "data": {
            "text/html": [
              "<div>\n",
              "<style scoped>\n",
              "    .dataframe tbody tr th:only-of-type {\n",
              "        vertical-align: middle;\n",
              "    }\n",
              "\n",
              "    .dataframe tbody tr th {\n",
              "        vertical-align: top;\n",
              "    }\n",
              "\n",
              "    .dataframe thead th {\n",
              "        text-align: right;\n",
              "    }\n",
              "</style>\n",
              "<table border=\"1\" class=\"dataframe\">\n",
              "  <thead>\n",
              "    <tr style=\"text-align: right;\">\n",
              "      <th></th>\n",
              "      <th>Offer Accepted</th>\n",
              "      <th>Reward</th>\n",
              "      <th>Mailer Type</th>\n",
              "      <th>Income Level</th>\n",
              "      <th># Bank Accounts Open</th>\n",
              "      <th>Overdraft Protection</th>\n",
              "      <th>Credit Rating</th>\n",
              "      <th># Credit Cards Held</th>\n",
              "      <th># Homes Owned</th>\n",
              "      <th>Household Size</th>\n",
              "      <th>Own Your Home</th>\n",
              "      <th>Average Balance</th>\n",
              "      <th>Q1 Balance</th>\n",
              "      <th>Q2 Balance</th>\n",
              "      <th>Q3 Balance</th>\n",
              "      <th>Q4 Balance</th>\n",
              "    </tr>\n",
              "    <tr>\n",
              "      <th>Customer Number</th>\n",
              "      <th></th>\n",
              "      <th></th>\n",
              "      <th></th>\n",
              "      <th></th>\n",
              "      <th></th>\n",
              "      <th></th>\n",
              "      <th></th>\n",
              "      <th></th>\n",
              "      <th></th>\n",
              "      <th></th>\n",
              "      <th></th>\n",
              "      <th></th>\n",
              "      <th></th>\n",
              "      <th></th>\n",
              "      <th></th>\n",
              "      <th></th>\n",
              "    </tr>\n",
              "  </thead>\n",
              "  <tbody>\n",
              "    <tr>\n",
              "      <th>1</th>\n",
              "      <td>No</td>\n",
              "      <td>Air Miles</td>\n",
              "      <td>Letter</td>\n",
              "      <td>High</td>\n",
              "      <td>1</td>\n",
              "      <td>No</td>\n",
              "      <td>High</td>\n",
              "      <td>2</td>\n",
              "      <td>1</td>\n",
              "      <td>4</td>\n",
              "      <td>No</td>\n",
              "      <td>1160.75</td>\n",
              "      <td>1669.0</td>\n",
              "      <td>877.0</td>\n",
              "      <td>1095.0</td>\n",
              "      <td>1002.0</td>\n",
              "    </tr>\n",
              "    <tr>\n",
              "      <th>2</th>\n",
              "      <td>No</td>\n",
              "      <td>Air Miles</td>\n",
              "      <td>Letter</td>\n",
              "      <td>Medium</td>\n",
              "      <td>1</td>\n",
              "      <td>No</td>\n",
              "      <td>Medium</td>\n",
              "      <td>2</td>\n",
              "      <td>2</td>\n",
              "      <td>5</td>\n",
              "      <td>Yes</td>\n",
              "      <td>147.25</td>\n",
              "      <td>39.0</td>\n",
              "      <td>106.0</td>\n",
              "      <td>78.0</td>\n",
              "      <td>366.0</td>\n",
              "    </tr>\n",
              "    <tr>\n",
              "      <th>3</th>\n",
              "      <td>No</td>\n",
              "      <td>Air Miles</td>\n",
              "      <td>Postcard</td>\n",
              "      <td>High</td>\n",
              "      <td>2</td>\n",
              "      <td>No</td>\n",
              "      <td>Medium</td>\n",
              "      <td>2</td>\n",
              "      <td>1</td>\n",
              "      <td>2</td>\n",
              "      <td>Yes</td>\n",
              "      <td>276.50</td>\n",
              "      <td>367.0</td>\n",
              "      <td>352.0</td>\n",
              "      <td>145.0</td>\n",
              "      <td>242.0</td>\n",
              "    </tr>\n",
              "    <tr>\n",
              "      <th>4</th>\n",
              "      <td>No</td>\n",
              "      <td>Air Miles</td>\n",
              "      <td>Letter</td>\n",
              "      <td>Medium</td>\n",
              "      <td>2</td>\n",
              "      <td>No</td>\n",
              "      <td>High</td>\n",
              "      <td>1</td>\n",
              "      <td>1</td>\n",
              "      <td>4</td>\n",
              "      <td>No</td>\n",
              "      <td>1219.00</td>\n",
              "      <td>1578.0</td>\n",
              "      <td>1760.0</td>\n",
              "      <td>1119.0</td>\n",
              "      <td>419.0</td>\n",
              "    </tr>\n",
              "    <tr>\n",
              "      <th>5</th>\n",
              "      <td>No</td>\n",
              "      <td>Air Miles</td>\n",
              "      <td>Letter</td>\n",
              "      <td>Medium</td>\n",
              "      <td>1</td>\n",
              "      <td>No</td>\n",
              "      <td>Medium</td>\n",
              "      <td>2</td>\n",
              "      <td>1</td>\n",
              "      <td>6</td>\n",
              "      <td>Yes</td>\n",
              "      <td>1211.00</td>\n",
              "      <td>2140.0</td>\n",
              "      <td>1357.0</td>\n",
              "      <td>982.0</td>\n",
              "      <td>365.0</td>\n",
              "    </tr>\n",
              "  </tbody>\n",
              "</table>\n",
              "</div>"
            ],
            "text/plain": [
              "                Offer Accepted     Reward  ... Q3 Balance Q4 Balance\n",
              "Customer Number                            ...                      \n",
              "1                           No  Air Miles  ...     1095.0     1002.0\n",
              "2                           No  Air Miles  ...       78.0      366.0\n",
              "3                           No  Air Miles  ...      145.0      242.0\n",
              "4                           No  Air Miles  ...     1119.0      419.0\n",
              "5                           No  Air Miles  ...      982.0      365.0\n",
              "\n",
              "[5 rows x 16 columns]"
            ]
          },
          "metadata": {},
          "execution_count": 3
        }
      ]
    },
    {
      "cell_type": "markdown",
      "metadata": {
        "id": "G3dXpAghtdvY"
      },
      "source": [
        "Mengecek dan menampilkan duplicated data yang ada pada DataFrame"
      ]
    },
    {
      "cell_type": "code",
      "metadata": {
        "colab": {
          "base_uri": "https://localhost:8080/"
        },
        "id": "Nu0SFZGrtOTL",
        "outputId": "825d83b3-65a5-4bb5-8a80-832420104a52"
      },
      "source": [
        "df.duplicated().sum()"
      ],
      "execution_count": null,
      "outputs": [
        {
          "output_type": "execute_result",
          "data": {
            "text/plain": [
              "0"
            ]
          },
          "metadata": {},
          "execution_count": 14
        }
      ]
    },
    {
      "cell_type": "markdown",
      "metadata": {
        "id": "aDwucrZYAAm0"
      },
      "source": [
        "## Data Preprocessing"
      ]
    },
    {
      "cell_type": "markdown",
      "metadata": {
        "id": "7LUTCPjXAJ4l"
      },
      "source": [
        "### Handling Missing Value"
      ]
    },
    {
      "cell_type": "markdown",
      "metadata": {
        "id": "lFhljh56c6JN"
      },
      "source": [
        "Dalam menghandle missing value yang ditemukan pada dataset, kami men-drop atau membuang baris yang terdapat missing value. Kami menggunakan metode tersebut karena semua missing value yang ditemukan pada kolom \"Average Balance\", \"Q1 Balance\", \"Q2 Balance\", \"Q3 Balance\", dan \"Q4 Balance\" berada pada baris yang sama."
      ]
    },
    {
      "cell_type": "code",
      "metadata": {
        "colab": {
          "base_uri": "https://localhost:8080/"
        },
        "id": "LMYjUL8UuVBQ",
        "outputId": "ddafb2c6-e8c8-4ecf-f50c-49d91c37709f"
      },
      "source": [
        "print('Dimensi data awal : ',df.shape)\n",
        "\n",
        "df.dropna(inplace=True)\n",
        "\n",
        "print('Dimensi data setelah handling missing value : ',df.shape)"
      ],
      "execution_count": null,
      "outputs": [
        {
          "output_type": "stream",
          "name": "stdout",
          "text": [
            "Dimensi data awal :  (18000, 16)\n",
            "Dimensi data setelah handling missing value :  (17976, 16)\n"
          ]
        }
      ]
    },
    {
      "cell_type": "markdown",
      "metadata": {
        "id": "e83nGh-0CN2o"
      },
      "source": [
        "### Handling Outliers"
      ]
    },
    {
      "cell_type": "markdown",
      "metadata": {
        "id": "uX3BVcxYIpG1"
      },
      "source": [
        "Menampilkan 5 data pertama dari DataFrame"
      ]
    },
    {
      "cell_type": "code",
      "metadata": {
        "colab": {
          "base_uri": "https://localhost:8080/",
          "height": 376
        },
        "id": "MQBvTkyyHM1V",
        "outputId": "5b8e87f0-de17-4872-cc24-e64a15032e4b"
      },
      "source": [
        "df.head()"
      ],
      "execution_count": null,
      "outputs": [
        {
          "output_type": "execute_result",
          "data": {
            "text/html": [
              "<div>\n",
              "<style scoped>\n",
              "    .dataframe tbody tr th:only-of-type {\n",
              "        vertical-align: middle;\n",
              "    }\n",
              "\n",
              "    .dataframe tbody tr th {\n",
              "        vertical-align: top;\n",
              "    }\n",
              "\n",
              "    .dataframe thead th {\n",
              "        text-align: right;\n",
              "    }\n",
              "</style>\n",
              "<table border=\"1\" class=\"dataframe\">\n",
              "  <thead>\n",
              "    <tr style=\"text-align: right;\">\n",
              "      <th></th>\n",
              "      <th>Offer Accepted</th>\n",
              "      <th>Reward</th>\n",
              "      <th>Mailer Type</th>\n",
              "      <th>Income Level</th>\n",
              "      <th># Bank Accounts Open</th>\n",
              "      <th>Overdraft Protection</th>\n",
              "      <th>Credit Rating</th>\n",
              "      <th># Credit Cards Held</th>\n",
              "      <th># Homes Owned</th>\n",
              "      <th>Household Size</th>\n",
              "      <th>Own Your Home</th>\n",
              "      <th>Average Balance</th>\n",
              "      <th>Q1 Balance</th>\n",
              "      <th>Q2 Balance</th>\n",
              "      <th>Q3 Balance</th>\n",
              "      <th>Q4 Balance</th>\n",
              "    </tr>\n",
              "    <tr>\n",
              "      <th>Customer Number</th>\n",
              "      <th></th>\n",
              "      <th></th>\n",
              "      <th></th>\n",
              "      <th></th>\n",
              "      <th></th>\n",
              "      <th></th>\n",
              "      <th></th>\n",
              "      <th></th>\n",
              "      <th></th>\n",
              "      <th></th>\n",
              "      <th></th>\n",
              "      <th></th>\n",
              "      <th></th>\n",
              "      <th></th>\n",
              "      <th></th>\n",
              "      <th></th>\n",
              "    </tr>\n",
              "  </thead>\n",
              "  <tbody>\n",
              "    <tr>\n",
              "      <th>1</th>\n",
              "      <td>No</td>\n",
              "      <td>Air Miles</td>\n",
              "      <td>Letter</td>\n",
              "      <td>High</td>\n",
              "      <td>1</td>\n",
              "      <td>No</td>\n",
              "      <td>High</td>\n",
              "      <td>2</td>\n",
              "      <td>1</td>\n",
              "      <td>4</td>\n",
              "      <td>No</td>\n",
              "      <td>1160.75</td>\n",
              "      <td>1669.0</td>\n",
              "      <td>877.0</td>\n",
              "      <td>1095.0</td>\n",
              "      <td>1002.0</td>\n",
              "    </tr>\n",
              "    <tr>\n",
              "      <th>2</th>\n",
              "      <td>No</td>\n",
              "      <td>Air Miles</td>\n",
              "      <td>Letter</td>\n",
              "      <td>Medium</td>\n",
              "      <td>1</td>\n",
              "      <td>No</td>\n",
              "      <td>Medium</td>\n",
              "      <td>2</td>\n",
              "      <td>2</td>\n",
              "      <td>5</td>\n",
              "      <td>Yes</td>\n",
              "      <td>147.25</td>\n",
              "      <td>39.0</td>\n",
              "      <td>106.0</td>\n",
              "      <td>78.0</td>\n",
              "      <td>366.0</td>\n",
              "    </tr>\n",
              "    <tr>\n",
              "      <th>3</th>\n",
              "      <td>No</td>\n",
              "      <td>Air Miles</td>\n",
              "      <td>Postcard</td>\n",
              "      <td>High</td>\n",
              "      <td>2</td>\n",
              "      <td>No</td>\n",
              "      <td>Medium</td>\n",
              "      <td>2</td>\n",
              "      <td>1</td>\n",
              "      <td>2</td>\n",
              "      <td>Yes</td>\n",
              "      <td>276.50</td>\n",
              "      <td>367.0</td>\n",
              "      <td>352.0</td>\n",
              "      <td>145.0</td>\n",
              "      <td>242.0</td>\n",
              "    </tr>\n",
              "    <tr>\n",
              "      <th>4</th>\n",
              "      <td>No</td>\n",
              "      <td>Air Miles</td>\n",
              "      <td>Letter</td>\n",
              "      <td>Medium</td>\n",
              "      <td>2</td>\n",
              "      <td>No</td>\n",
              "      <td>High</td>\n",
              "      <td>1</td>\n",
              "      <td>1</td>\n",
              "      <td>4</td>\n",
              "      <td>No</td>\n",
              "      <td>1219.00</td>\n",
              "      <td>1578.0</td>\n",
              "      <td>1760.0</td>\n",
              "      <td>1119.0</td>\n",
              "      <td>419.0</td>\n",
              "    </tr>\n",
              "    <tr>\n",
              "      <th>5</th>\n",
              "      <td>No</td>\n",
              "      <td>Air Miles</td>\n",
              "      <td>Letter</td>\n",
              "      <td>Medium</td>\n",
              "      <td>1</td>\n",
              "      <td>No</td>\n",
              "      <td>Medium</td>\n",
              "      <td>2</td>\n",
              "      <td>1</td>\n",
              "      <td>6</td>\n",
              "      <td>Yes</td>\n",
              "      <td>1211.00</td>\n",
              "      <td>2140.0</td>\n",
              "      <td>1357.0</td>\n",
              "      <td>982.0</td>\n",
              "      <td>365.0</td>\n",
              "    </tr>\n",
              "  </tbody>\n",
              "</table>\n",
              "</div>"
            ],
            "text/plain": [
              "                Offer Accepted     Reward  ... Q3 Balance Q4 Balance\n",
              "Customer Number                            ...                      \n",
              "1                           No  Air Miles  ...     1095.0     1002.0\n",
              "2                           No  Air Miles  ...       78.0      366.0\n",
              "3                           No  Air Miles  ...      145.0      242.0\n",
              "4                           No  Air Miles  ...     1119.0      419.0\n",
              "5                           No  Air Miles  ...      982.0      365.0\n",
              "\n",
              "[5 rows x 16 columns]"
            ]
          },
          "metadata": {},
          "execution_count": 16
        }
      ]
    },
    {
      "cell_type": "code",
      "metadata": {
        "id": "GQ2T9xI2CZR7",
        "colab": {
          "base_uri": "https://localhost:8080/",
          "height": 657
        },
        "outputId": "29fa3a72-b6ef-4d74-9a6f-67425532d0e2"
      },
      "source": [
        "fig, ax = plt.subplots(2,3, figsize=(19,9))\n",
        "df_acc = df[df['Offer Accepted'] == 'Yes']\n",
        "df_reject = df[df['Offer Accepted'] == 'No']\n",
        "\n",
        "\n",
        "sns.distplot(df_acc['Average Balance'], ax=ax[0,0], label='Accepted')\n",
        "sns.distplot(df_reject['Average Balance'], ax=ax[0,0], label='Rejected')\n",
        "ax[0,0].legend()\n",
        "ax[0,0].text(x=0, y=1, transform=ax[0,0].transAxes, s=\"Skewness =  %f\" % df['Average Balance'].skew(), fontweight=600,fontsize=9, verticalalignment='top',horizontalalignment='left', backgroundcolor='white',color='tab:blue')\n",
        "\n",
        "\n",
        "sns.distplot(df_acc['Q1 Balance'], ax=ax[0,1], label='Accepted')\n",
        "sns.distplot(df_reject['Q1 Balance'], ax=ax[0,1], label='Rejected')\n",
        "ax[0,1].legend()\n",
        "ax[0,1].text(x=0, y=1, transform=ax[0,1].transAxes, s=\"Skewness =  %f\" % df['Q1 Balance'].skew(), fontweight=600,fontsize=9, verticalalignment='top',horizontalalignment='left', backgroundcolor='white',color='tab:blue')\n",
        "\n",
        "sns.distplot(df_acc['Q2 Balance'], ax=ax[0,2], label='Accepted')\n",
        "sns.distplot(df_reject['Q2 Balance'], ax=ax[0,2], label='Rejected')\n",
        "ax[0,2].legend()\n",
        "ax[0,2].text(x=0, y=1, transform=ax[0,2].transAxes, s=\"Skewness =  %f\" % df['Q2 Balance'].skew(), fontweight=600,fontsize=9, verticalalignment='top',horizontalalignment='left', backgroundcolor='white',color='tab:blue')\n",
        "\n",
        "\n",
        "sns.distplot(df_acc['Q3 Balance'], ax=ax[1,0], label='Accepted')\n",
        "sns.distplot(df_reject['Q3 Balance'], ax=ax[1,0], label='Rejected')\n",
        "ax[1,0].legend()\n",
        "ax[1,0].text(x=0, y=1, transform=ax[1,0].transAxes, s=\"Skewness =  %f\" % df['Q3 Balance'].skew(), fontweight=600,fontsize=9, verticalalignment='top',horizontalalignment='left', backgroundcolor='white',color='tab:blue')\n",
        "\n",
        "\n",
        "sns.distplot(df_acc['Q4 Balance'], ax=ax[1,1], label='Accepted')\n",
        "sns.distplot(df_reject['Q4 Balance'], ax=ax[1,1], label='Rejected')\n",
        "ax[1,1].legend()\n",
        "ax[1,1].text(x=0, y=1, transform=ax[1,1].transAxes, s=\"Skewness =  %f\" % df['Q4 Balance'].skew(), fontweight=600,fontsize=9, verticalalignment='top',horizontalalignment='left', backgroundcolor='white',color='tab:blue')\n",
        "\n",
        "\n",
        "ax[1][2].set_visible(False)\n",
        "\n",
        "\n",
        "plt.tight_layout()"
      ],
      "execution_count": null,
      "outputs": [
        {
          "output_type": "display_data",
          "data": {
            "image/png": "[encoded data removed]",
            "text/plain": [
              "<Figure size 1368x648 with 6 Axes>"
            ]
          },
          "metadata": {
            "needs_background": "light"
          }
        }
      ]
    },
    {
      "cell_type": "markdown",
      "metadata": {
        "id": "0INRSaRAR9X5"
      },
      "source": [
        "Kami memeriksa distribusi dari setiap kolom balance, tidak terdapat kolom yang sepenuhnya berdistribusi normal. terutama kolom Q4 Balance yang cenderung miring ke kanan dengan nilai skewness 0.6"
      ]
    },
    {
      "cell_type": "markdown",
      "metadata": {
        "id": "HJpuMBGcdc2i"
      },
      "source": [
        "Kami melakukan treatment atau penghilangan nilai outliers dengan cara mengubah nilai outliers yang ditemukan pada kolom \"Average Balance\", \"Q1 Balance\", \"Q2 Balance\", \"Q3 Balance\", dan \"Q4 Balance\" dengan nilai batas maksimum observasi dan nilai batas minimum observasi pada setiap kolom. Kami menggunakan metode tersebut karena outliers pada kolom \"Average Balance\", \"Q1 Balance\", \"Q2 Balance\", \"Q3 Balance\", dan \"Q4 Balance\" merupakan data yang valid atau tidak berasal dari kesalahan input atau human error"
      ]
    },
    {
      "cell_type": "code",
      "metadata": {
        "id": "HGDhxOmlMBCd"
      },
      "source": [
        "outliers_columns = [\"Average Balance\", \"Q1 Balance\", \"Q2 Balance\", \"Q3 Balance\", \"Q4 Balance\"]\n",
        "for column in outliers_columns:\n",
        "  Q1 = df[column].quantile(0.25)\n",
        "  Q3 = df[column].quantile(0.75)\n",
        "  IQR = Q3 - Q1\n",
        "\n",
        "  df.loc[df[column] < (Q1 - 1.5 * IQR), column] = Q1 - 1.5 * IQR\n",
        "  df.loc[df[column] > (Q3 + 1.5 * IQR), column] = Q3 + 1.5 * IQR"
      ],
      "execution_count": null,
      "outputs": []
    },
    {
      "cell_type": "markdown",
      "metadata": {
        "id": "FhWuFOfleLrs"
      },
      "source": [
        "Melakukan pengecekan ulang nilai outliers pada kolom \"Average Balance\", \"Q1 Balance\", \"Q2 Balance\", \"Q3 Balance\", dan \"Q4 Balance\" setelah dilakukan treatment outliers atau penghapusan nilai outliers."
      ]
    },
    {
      "cell_type": "code",
      "metadata": {
        "id": "QrJBy5IeNIUq",
        "colab": {
          "base_uri": "https://localhost:8080/",
          "height": 469
        },
        "outputId": "2b7e479d-3514-435f-8583-addee60127fb"
      },
      "source": [
        "fig, ax = plt.subplots(2,3, figsize=(16,6))\n",
        "sns.boxplot(df['Average Balance'], ax=ax[0,0])\n",
        "sns.boxplot(df['Q1 Balance'], ax=ax[0,1])\n",
        "sns.boxplot(df['Q2 Balance'], ax=ax[0,2])\n",
        "sns.boxplot(df['Q3 Balance'], ax=ax[1,0])\n",
        "sns.boxplot(df['Q4 Balance'], ax=ax[1,1])\n",
        "ax[1][2].set_visible(False)\n",
        "\n",
        "plt.suptitle('Detecting Outliers in Balances variables', y=1.04)\n",
        "\n",
        "plt.tight_layout()"
      ],
      "execution_count": null,
      "outputs": [
        {
          "output_type": "display_data",
          "data": {
            "image/png": "[encoded data removed]",
            "text/plain": [
              "<Figure size 1152x432 with 6 Axes>"
            ]
          },
          "metadata": {
            "needs_background": "light"
          }
        }
      ]
    },
    {
      "cell_type": "markdown",
      "metadata": {
        "id": "mQ7A9whNAPuJ"
      },
      "source": [
        "### Encoding Categorical Variables"
      ]
    },
    {
      "cell_type": "code",
      "metadata": {
        "id": "63yz8y5gtXZM"
      },
      "source": [
        "def level_encoder(data):\n",
        "    if data == 'High':\n",
        "        return 2\n",
        "    if data == 'Medium':\n",
        "        return 1\n",
        "    else:\n",
        "        return 0\n",
        "\n",
        "df['Income Level'] = df['Income Level'].apply(lambda x : level_encoder(x) )\n",
        "df['Credit Rating'] = df['Credit Rating'].apply(lambda x : level_encoder(x) )"
      ],
      "execution_count": null,
      "outputs": []
    },
    {
      "cell_type": "markdown",
      "metadata": {
        "id": "hS2VQ0EnSHaB"
      },
      "source": [
        "Pada tahap ini kami akan melakukan encoding ordinal data pada kolom Income Level dan Credit Rating, encoding dilakukan sesuai tingkatan data pada kolom tersebut."
      ]
    },
    {
      "cell_type": "code",
      "metadata": {
        "colab": {
          "base_uri": "https://localhost:8080/"
        },
        "id": "6wdmsvv6uHJZ",
        "outputId": "96718e53-a8fe-4dcd-e871-572e0cfd4c12"
      },
      "source": [
        "from sklearn import preprocessing\n",
        "le = preprocessing.LabelEncoder()\n",
        "df['Offer Accepted'] = le.fit_transform(df['Offer Accepted'])\n",
        "df['Offer Accepted'].value_counts(normalize=True)"
      ],
      "execution_count": null,
      "outputs": [
        {
          "output_type": "execute_result",
          "data": {
            "text/plain": [
              "0    0.943202\n",
              "1    0.056798\n",
              "Name: Offer Accepted, dtype: float64"
            ]
          },
          "metadata": {},
          "execution_count": 7
        }
      ]
    },
    {
      "cell_type": "markdown",
      "metadata": {
        "id": "rWUoMmrtSn2P"
      },
      "source": [
        "Pada tahap ini kami melakukan encoding untuk label / data target karena masih  berbentuk kategorikal data"
      ]
    },
    {
      "cell_type": "code",
      "metadata": {
        "colab": {
          "base_uri": "https://localhost:8080/",
          "height": 506
        },
        "id": "DG6Vvkkq6kIY",
        "outputId": "9053267b-8ccb-47e8-c7db-aee1fedd00e2"
      },
      "source": [
        "%pip install feature-engine\n",
        "from feature_engine.encoding import OneHotEncoder"
      ],
      "execution_count": null,
      "outputs": [
        {
          "output_type": "stream",
          "name": "stdout",
          "text": [
            "Collecting feature-engine\n",
            "  Downloading feature_engine-1.1.2-py2.py3-none-any.whl (180 kB)\n",
            "\u001b[K     |████████████████████████████████| 180 kB 7.8 MB/s \n",
            "\u001b[?25hRequirement already satisfied: scipy>=1.4.1 in /usr/local/lib/python3.7/dist-packages (from feature-engine) (1.4.1)\n",
            "Requirement already satisfied: pandas>=1.0.3 in /usr/local/lib/python3.7/dist-packages (from feature-engine) (1.1.5)\n",
            "Requirement already satisfied: scikit-learn>=0.22.2 in /usr/local/lib/python3.7/dist-packages (from feature-engine) (1.0.1)\n",
            "Collecting statsmodels>=0.11.1\n",
            "  Downloading statsmodels-0.13.1-cp37-cp37m-manylinux_2_17_x86_64.manylinux2014_x86_64.whl (9.8 MB)\n",
            "\u001b[K     |████████████████████████████████| 9.8 MB 18.9 MB/s \n",
            "\u001b[?25hRequirement already satisfied: numpy>=1.18.2 in /usr/local/lib/python3.7/dist-packages (from feature-engine) (1.19.5)\n",
            "Requirement already satisfied: pytz>=2017.2 in /usr/local/lib/python3.7/dist-packages (from pandas>=1.0.3->feature-engine) (2018.9)\n",
            "Requirement already satisfied: python-dateutil>=2.7.3 in /usr/local/lib/python3.7/dist-packages (from pandas>=1.0.3->feature-engine) (2.8.2)\n",
            "Requirement already satisfied: six>=1.5 in /usr/local/lib/python3.7/dist-packages (from python-dateutil>=2.7.3->pandas>=1.0.3->feature-engine) (1.15.0)\n",
            "Requirement already satisfied: threadpoolctl>=2.0.0 in /usr/local/lib/python3.7/dist-packages (from scikit-learn>=0.22.2->feature-engine) (3.0.0)\n",
            "Requirement already satisfied: joblib>=0.11 in /usr/local/lib/python3.7/dist-packages (from scikit-learn>=0.22.2->feature-engine) (1.1.0)\n",
            "Requirement already satisfied: patsy>=0.5.2 in /usr/local/lib/python3.7/dist-packages (from statsmodels>=0.11.1->feature-engine) (0.5.2)\n",
            "Installing collected packages: statsmodels, feature-engine\n",
            "  Attempting uninstall: statsmodels\n",
            "    Found existing installation: statsmodels 0.10.2\n",
            "    Uninstalling statsmodels-0.10.2:\n",
            "      Successfully uninstalled statsmodels-0.10.2\n",
            "Successfully installed feature-engine-1.1.2 statsmodels-0.13.1\n"
          ]
        },
        {
          "output_type": "display_data",
          "data": {
            "application/vnd.colab-display-data+json": {
              "pip_warning": {
                "packages": [
                  "statsmodels"
                ]
              }
            }
          },
          "metadata": {}
        }
      ]
    },
    {
      "cell_type": "code",
      "metadata": {
        "id": "RAdBAm681C66",
        "colab": {
          "base_uri": "https://localhost:8080/",
          "height": 327
        },
        "outputId": "33ba9ad5-6524-40aa-cbbe-b2234980e4d1"
      },
      "source": [
        "enc = OneHotEncoder()\n",
        "df = enc.fit_transform(df)\n",
        "\n",
        "df.head()"
      ],
      "execution_count": null,
      "outputs": [
        {
          "output_type": "execute_result",
          "data": {
            "text/html": [
              "<div>\n",
              "<style scoped>\n",
              "    .dataframe tbody tr th:only-of-type {\n",
              "        vertical-align: middle;\n",
              "    }\n",
              "\n",
              "    .dataframe tbody tr th {\n",
              "        vertical-align: top;\n",
              "    }\n",
              "\n",
              "    .dataframe thead th {\n",
              "        text-align: right;\n",
              "    }\n",
              "</style>\n",
              "<table border=\"1\" class=\"dataframe\">\n",
              "  <thead>\n",
              "    <tr style=\"text-align: right;\">\n",
              "      <th></th>\n",
              "      <th>Offer Accepted</th>\n",
              "      <th>Income Level</th>\n",
              "      <th># Bank Accounts Open</th>\n",
              "      <th>Credit Rating</th>\n",
              "      <th># Credit Cards Held</th>\n",
              "      <th># Homes Owned</th>\n",
              "      <th>Household Size</th>\n",
              "      <th>Average Balance</th>\n",
              "      <th>Q1 Balance</th>\n",
              "      <th>Q2 Balance</th>\n",
              "      <th>Q3 Balance</th>\n",
              "      <th>Q4 Balance</th>\n",
              "      <th>Reward_Air Miles</th>\n",
              "      <th>Reward_Cash Back</th>\n",
              "      <th>Reward_Points</th>\n",
              "      <th>Mailer Type_Letter</th>\n",
              "      <th>Mailer Type_Postcard</th>\n",
              "      <th>Overdraft Protection_No</th>\n",
              "      <th>Overdraft Protection_Yes</th>\n",
              "      <th>Own Your Home_No</th>\n",
              "      <th>Own Your Home_Yes</th>\n",
              "    </tr>\n",
              "    <tr>\n",
              "      <th>Customer Number</th>\n",
              "      <th></th>\n",
              "      <th></th>\n",
              "      <th></th>\n",
              "      <th></th>\n",
              "      <th></th>\n",
              "      <th></th>\n",
              "      <th></th>\n",
              "      <th></th>\n",
              "      <th></th>\n",
              "      <th></th>\n",
              "      <th></th>\n",
              "      <th></th>\n",
              "      <th></th>\n",
              "      <th></th>\n",
              "      <th></th>\n",
              "      <th></th>\n",
              "      <th></th>\n",
              "      <th></th>\n",
              "      <th></th>\n",
              "      <th></th>\n",
              "      <th></th>\n",
              "    </tr>\n",
              "  </thead>\n",
              "  <tbody>\n",
              "    <tr>\n",
              "      <th>1</th>\n",
              "      <td>0</td>\n",
              "      <td>2</td>\n",
              "      <td>1</td>\n",
              "      <td>2</td>\n",
              "      <td>2</td>\n",
              "      <td>1</td>\n",
              "      <td>4</td>\n",
              "      <td>1160.750</td>\n",
              "      <td>1669.0</td>\n",
              "      <td>877.0</td>\n",
              "      <td>1095.0</td>\n",
              "      <td>1002.0</td>\n",
              "      <td>1</td>\n",
              "      <td>0</td>\n",
              "      <td>0</td>\n",
              "      <td>1</td>\n",
              "      <td>0</td>\n",
              "      <td>1</td>\n",
              "      <td>0</td>\n",
              "      <td>1</td>\n",
              "      <td>0</td>\n",
              "    </tr>\n",
              "    <tr>\n",
              "      <th>2</th>\n",
              "      <td>0</td>\n",
              "      <td>1</td>\n",
              "      <td>1</td>\n",
              "      <td>1</td>\n",
              "      <td>2</td>\n",
              "      <td>2</td>\n",
              "      <td>5</td>\n",
              "      <td>238.875</td>\n",
              "      <td>39.0</td>\n",
              "      <td>106.0</td>\n",
              "      <td>78.0</td>\n",
              "      <td>366.0</td>\n",
              "      <td>1</td>\n",
              "      <td>0</td>\n",
              "      <td>0</td>\n",
              "      <td>1</td>\n",
              "      <td>0</td>\n",
              "      <td>1</td>\n",
              "      <td>0</td>\n",
              "      <td>0</td>\n",
              "      <td>1</td>\n",
              "    </tr>\n",
              "    <tr>\n",
              "      <th>3</th>\n",
              "      <td>0</td>\n",
              "      <td>2</td>\n",
              "      <td>2</td>\n",
              "      <td>1</td>\n",
              "      <td>2</td>\n",
              "      <td>1</td>\n",
              "      <td>2</td>\n",
              "      <td>276.500</td>\n",
              "      <td>367.0</td>\n",
              "      <td>352.0</td>\n",
              "      <td>145.0</td>\n",
              "      <td>242.0</td>\n",
              "      <td>1</td>\n",
              "      <td>0</td>\n",
              "      <td>0</td>\n",
              "      <td>0</td>\n",
              "      <td>1</td>\n",
              "      <td>1</td>\n",
              "      <td>0</td>\n",
              "      <td>0</td>\n",
              "      <td>1</td>\n",
              "    </tr>\n",
              "    <tr>\n",
              "      <th>4</th>\n",
              "      <td>0</td>\n",
              "      <td>1</td>\n",
              "      <td>2</td>\n",
              "      <td>2</td>\n",
              "      <td>1</td>\n",
              "      <td>1</td>\n",
              "      <td>4</td>\n",
              "      <td>1219.000</td>\n",
              "      <td>1578.0</td>\n",
              "      <td>1760.0</td>\n",
              "      <td>1119.0</td>\n",
              "      <td>419.0</td>\n",
              "      <td>1</td>\n",
              "      <td>0</td>\n",
              "      <td>0</td>\n",
              "      <td>1</td>\n",
              "      <td>0</td>\n",
              "      <td>1</td>\n",
              "      <td>0</td>\n",
              "      <td>1</td>\n",
              "      <td>0</td>\n",
              "    </tr>\n",
              "    <tr>\n",
              "      <th>5</th>\n",
              "      <td>0</td>\n",
              "      <td>1</td>\n",
              "      <td>1</td>\n",
              "      <td>1</td>\n",
              "      <td>2</td>\n",
              "      <td>1</td>\n",
              "      <td>6</td>\n",
              "      <td>1211.000</td>\n",
              "      <td>2140.0</td>\n",
              "      <td>1357.0</td>\n",
              "      <td>982.0</td>\n",
              "      <td>365.0</td>\n",
              "      <td>1</td>\n",
              "      <td>0</td>\n",
              "      <td>0</td>\n",
              "      <td>1</td>\n",
              "      <td>0</td>\n",
              "      <td>1</td>\n",
              "      <td>0</td>\n",
              "      <td>0</td>\n",
              "      <td>1</td>\n",
              "    </tr>\n",
              "  </tbody>\n",
              "</table>\n",
              "</div>"
            ],
            "text/plain": [
              "                 Offer Accepted  ...  Own Your Home_Yes\n",
              "Customer Number                  ...                   \n",
              "1                             0  ...                  0\n",
              "2                             0  ...                  1\n",
              "3                             0  ...                  1\n",
              "4                             0  ...                  0\n",
              "5                             0  ...                  1\n",
              "\n",
              "[5 rows x 21 columns]"
            ]
          },
          "metadata": {},
          "execution_count": 9
        }
      ]
    },
    {
      "cell_type": "markdown",
      "metadata": {
        "id": "Xz_uQbGCS1FQ"
      },
      "source": [
        "Kemudian di tahap ini kami melakukan encoding untuk data kategorikal yang berjenis nominal menggunakan fungsi OneHotEncoder."
      ]
    },
    {
      "cell_type": "markdown",
      "metadata": {
        "id": "6KfEhNTaR9za"
      },
      "source": [
        "### Scaling"
      ]
    },
    {
      "cell_type": "markdown",
      "metadata": {
        "id": "ScDv6ok8JQIN"
      },
      "source": [
        "Menampilkan 5 data pertama dari DataFrame"
      ]
    },
    {
      "cell_type": "code",
      "metadata": {
        "colab": {
          "base_uri": "https://localhost:8080/",
          "height": 327
        },
        "id": "DqDUMyJeSMJg",
        "outputId": "2f123cfe-844c-4572-f23e-0ed358b70487"
      },
      "source": [
        "df.head()"
      ],
      "execution_count": null,
      "outputs": [
        {
          "output_type": "execute_result",
          "data": {
            "text/html": [
              "<div>\n",
              "<style scoped>\n",
              "    .dataframe tbody tr th:only-of-type {\n",
              "        vertical-align: middle;\n",
              "    }\n",
              "\n",
              "    .dataframe tbody tr th {\n",
              "        vertical-align: top;\n",
              "    }\n",
              "\n",
              "    .dataframe thead th {\n",
              "        text-align: right;\n",
              "    }\n",
              "</style>\n",
              "<table border=\"1\" class=\"dataframe\">\n",
              "  <thead>\n",
              "    <tr style=\"text-align: right;\">\n",
              "      <th></th>\n",
              "      <th>Offer Accepted</th>\n",
              "      <th>Income Level</th>\n",
              "      <th># Bank Accounts Open</th>\n",
              "      <th>Credit Rating</th>\n",
              "      <th># Credit Cards Held</th>\n",
              "      <th># Homes Owned</th>\n",
              "      <th>Household Size</th>\n",
              "      <th>Average Balance</th>\n",
              "      <th>Q1 Balance</th>\n",
              "      <th>Q2 Balance</th>\n",
              "      <th>Q3 Balance</th>\n",
              "      <th>Q4 Balance</th>\n",
              "      <th>Reward_Air Miles</th>\n",
              "      <th>Reward_Cash Back</th>\n",
              "      <th>Reward_Points</th>\n",
              "      <th>Mailer Type_Letter</th>\n",
              "      <th>Mailer Type_Postcard</th>\n",
              "      <th>Overdraft Protection_No</th>\n",
              "      <th>Overdraft Protection_Yes</th>\n",
              "      <th>Own Your Home_No</th>\n",
              "      <th>Own Your Home_Yes</th>\n",
              "    </tr>\n",
              "    <tr>\n",
              "      <th>Customer Number</th>\n",
              "      <th></th>\n",
              "      <th></th>\n",
              "      <th></th>\n",
              "      <th></th>\n",
              "      <th></th>\n",
              "      <th></th>\n",
              "      <th></th>\n",
              "      <th></th>\n",
              "      <th></th>\n",
              "      <th></th>\n",
              "      <th></th>\n",
              "      <th></th>\n",
              "      <th></th>\n",
              "      <th></th>\n",
              "      <th></th>\n",
              "      <th></th>\n",
              "      <th></th>\n",
              "      <th></th>\n",
              "      <th></th>\n",
              "      <th></th>\n",
              "      <th></th>\n",
              "    </tr>\n",
              "  </thead>\n",
              "  <tbody>\n",
              "    <tr>\n",
              "      <th>1</th>\n",
              "      <td>0</td>\n",
              "      <td>2</td>\n",
              "      <td>1</td>\n",
              "      <td>2</td>\n",
              "      <td>2</td>\n",
              "      <td>1</td>\n",
              "      <td>4</td>\n",
              "      <td>1160.750</td>\n",
              "      <td>1669.0</td>\n",
              "      <td>877.0</td>\n",
              "      <td>1095.0</td>\n",
              "      <td>1002.0</td>\n",
              "      <td>1</td>\n",
              "      <td>0</td>\n",
              "      <td>0</td>\n",
              "      <td>1</td>\n",
              "      <td>0</td>\n",
              "      <td>1</td>\n",
              "      <td>0</td>\n",
              "      <td>1</td>\n",
              "      <td>0</td>\n",
              "    </tr>\n",
              "    <tr>\n",
              "      <th>2</th>\n",
              "      <td>0</td>\n",
              "      <td>1</td>\n",
              "      <td>1</td>\n",
              "      <td>1</td>\n",
              "      <td>2</td>\n",
              "      <td>2</td>\n",
              "      <td>5</td>\n",
              "      <td>238.875</td>\n",
              "      <td>39.0</td>\n",
              "      <td>106.0</td>\n",
              "      <td>78.0</td>\n",
              "      <td>366.0</td>\n",
              "      <td>1</td>\n",
              "      <td>0</td>\n",
              "      <td>0</td>\n",
              "      <td>1</td>\n",
              "      <td>0</td>\n",
              "      <td>1</td>\n",
              "      <td>0</td>\n",
              "      <td>0</td>\n",
              "      <td>1</td>\n",
              "    </tr>\n",
              "    <tr>\n",
              "      <th>3</th>\n",
              "      <td>0</td>\n",
              "      <td>2</td>\n",
              "      <td>2</td>\n",
              "      <td>1</td>\n",
              "      <td>2</td>\n",
              "      <td>1</td>\n",
              "      <td>2</td>\n",
              "      <td>276.500</td>\n",
              "      <td>367.0</td>\n",
              "      <td>352.0</td>\n",
              "      <td>145.0</td>\n",
              "      <td>242.0</td>\n",
              "      <td>1</td>\n",
              "      <td>0</td>\n",
              "      <td>0</td>\n",
              "      <td>0</td>\n",
              "      <td>1</td>\n",
              "      <td>1</td>\n",
              "      <td>0</td>\n",
              "      <td>0</td>\n",
              "      <td>1</td>\n",
              "    </tr>\n",
              "    <tr>\n",
              "      <th>4</th>\n",
              "      <td>0</td>\n",
              "      <td>1</td>\n",
              "      <td>2</td>\n",
              "      <td>2</td>\n",
              "      <td>1</td>\n",
              "      <td>1</td>\n",
              "      <td>4</td>\n",
              "      <td>1219.000</td>\n",
              "      <td>1578.0</td>\n",
              "      <td>1760.0</td>\n",
              "      <td>1119.0</td>\n",
              "      <td>419.0</td>\n",
              "      <td>1</td>\n",
              "      <td>0</td>\n",
              "      <td>0</td>\n",
              "      <td>1</td>\n",
              "      <td>0</td>\n",
              "      <td>1</td>\n",
              "      <td>0</td>\n",
              "      <td>1</td>\n",
              "      <td>0</td>\n",
              "    </tr>\n",
              "    <tr>\n",
              "      <th>5</th>\n",
              "      <td>0</td>\n",
              "      <td>1</td>\n",
              "      <td>1</td>\n",
              "      <td>1</td>\n",
              "      <td>2</td>\n",
              "      <td>1</td>\n",
              "      <td>6</td>\n",
              "      <td>1211.000</td>\n",
              "      <td>2140.0</td>\n",
              "      <td>1357.0</td>\n",
              "      <td>982.0</td>\n",
              "      <td>365.0</td>\n",
              "      <td>1</td>\n",
              "      <td>0</td>\n",
              "      <td>0</td>\n",
              "      <td>1</td>\n",
              "      <td>0</td>\n",
              "      <td>1</td>\n",
              "      <td>0</td>\n",
              "      <td>0</td>\n",
              "      <td>1</td>\n",
              "    </tr>\n",
              "  </tbody>\n",
              "</table>\n",
              "</div>"
            ],
            "text/plain": [
              "                 Offer Accepted  ...  Own Your Home_Yes\n",
              "Customer Number                  ...                   \n",
              "1                             0  ...                  0\n",
              "2                             0  ...                  1\n",
              "3                             0  ...                  1\n",
              "4                             0  ...                  0\n",
              "5                             0  ...                  1\n",
              "\n",
              "[5 rows x 21 columns]"
            ]
          },
          "metadata": {},
          "execution_count": 24
        }
      ]
    },
    {
      "cell_type": "code",
      "metadata": {
        "id": "hc4Rz0-eX_C6"
      },
      "source": [
        "df_copy = df.copy()"
      ],
      "execution_count": null,
      "outputs": []
    },
    {
      "cell_type": "code",
      "metadata": {
        "id": "R0waIiimST2r"
      },
      "source": [
        "X = df.drop(columns='Offer Accepted', axis=1)\n",
        "y = df['Offer Accepted']"
      ],
      "execution_count": null,
      "outputs": []
    },
    {
      "cell_type": "code",
      "metadata": {
        "id": "ZShBzxlqSDQX"
      },
      "source": [
        "from sklearn.model_selection import train_test_split\n",
        "\n",
        "X_train, X_test, y_train, y_test = train_test_split(X,y, test_size=0.2, random_state=123)"
      ],
      "execution_count": null,
      "outputs": []
    },
    {
      "cell_type": "markdown",
      "metadata": {
        "id": "MkGH3evETNn9"
      },
      "source": [
        "Sebelum dilakukan standardisasi, data harus di split terlebih dahulu menjadi Train dan Test data."
      ]
    },
    {
      "cell_type": "code",
      "metadata": {
        "id": "K2Iej7h5SBhj"
      },
      "source": [
        "from sklearn.preprocessing import MinMaxScaler\n",
        "scaler = MinMaxScaler()\n",
        "\n",
        "columns= X_train.columns[:11].values\n",
        "\n",
        "scaler.fit(X_train[columns])\n",
        "\n",
        "X_train[columns] = scaler.transform(X_train[columns])\n",
        "X_test[columns] = scaler.transform(X_test[columns])"
      ],
      "execution_count": null,
      "outputs": []
    },
    {
      "cell_type": "markdown",
      "metadata": {
        "id": "zmP_gTFUTW9V"
      },
      "source": [
        "Untuk Standardisasi, kami menggunakan MinMaxScaler karena data yang kita gunakan tidak sepenuhnya berdistribusi normal. kemudian fungsi scaler kita fit ke data train, kemudian kita transormasikan scaler ke data train dan juga test agar data test juga di transformasi sesuai dengan range data train."
      ]
    },
    {
      "cell_type": "code",
      "metadata": {
        "colab": {
          "base_uri": "https://localhost:8080/",
          "height": 327
        },
        "id": "ek_mVx18SBdC",
        "outputId": "3cea71e6-5795-44fe-a3c3-3ea7cdc6e6c2"
      },
      "source": [
        "X_train.head()"
      ],
      "execution_count": null,
      "outputs": [
        {
          "output_type": "execute_result",
          "data": {
            "text/html": [
              "<div>\n",
              "<style scoped>\n",
              "    .dataframe tbody tr th:only-of-type {\n",
              "        vertical-align: middle;\n",
              "    }\n",
              "\n",
              "    .dataframe tbody tr th {\n",
              "        vertical-align: top;\n",
              "    }\n",
              "\n",
              "    .dataframe thead th {\n",
              "        text-align: right;\n",
              "    }\n",
              "</style>\n",
              "<table border=\"1\" class=\"dataframe\">\n",
              "  <thead>\n",
              "    <tr style=\"text-align: right;\">\n",
              "      <th></th>\n",
              "      <th>Income Level</th>\n",
              "      <th># Bank Accounts Open</th>\n",
              "      <th>Credit Rating</th>\n",
              "      <th># Credit Cards Held</th>\n",
              "      <th># Homes Owned</th>\n",
              "      <th>Household Size</th>\n",
              "      <th>Average Balance</th>\n",
              "      <th>Q1 Balance</th>\n",
              "      <th>Q2 Balance</th>\n",
              "      <th>Q3 Balance</th>\n",
              "      <th>Q4 Balance</th>\n",
              "      <th>Reward_Air Miles</th>\n",
              "      <th>Reward_Cash Back</th>\n",
              "      <th>Reward_Points</th>\n",
              "      <th>Mailer Type_Letter</th>\n",
              "      <th>Mailer Type_Postcard</th>\n",
              "      <th>Overdraft Protection_No</th>\n",
              "      <th>Overdraft Protection_Yes</th>\n",
              "      <th>Own Your Home_No</th>\n",
              "      <th>Own Your Home_Yes</th>\n",
              "    </tr>\n",
              "    <tr>\n",
              "      <th>Customer Number</th>\n",
              "      <th></th>\n",
              "      <th></th>\n",
              "      <th></th>\n",
              "      <th></th>\n",
              "      <th></th>\n",
              "      <th></th>\n",
              "      <th></th>\n",
              "      <th></th>\n",
              "      <th></th>\n",
              "      <th></th>\n",
              "      <th></th>\n",
              "      <th></th>\n",
              "      <th></th>\n",
              "      <th></th>\n",
              "      <th></th>\n",
              "      <th></th>\n",
              "      <th></th>\n",
              "      <th></th>\n",
              "      <th></th>\n",
              "      <th></th>\n",
              "    </tr>\n",
              "  </thead>\n",
              "  <tbody>\n",
              "    <tr>\n",
              "      <th>17575</th>\n",
              "      <td>0.5</td>\n",
              "      <td>0.0</td>\n",
              "      <td>0.5</td>\n",
              "      <td>0.666667</td>\n",
              "      <td>0.0</td>\n",
              "      <td>0.125</td>\n",
              "      <td>0.332792</td>\n",
              "      <td>0.179251</td>\n",
              "      <td>0.336088</td>\n",
              "      <td>0.229321</td>\n",
              "      <td>0.366928</td>\n",
              "      <td>1</td>\n",
              "      <td>0</td>\n",
              "      <td>0</td>\n",
              "      <td>0</td>\n",
              "      <td>1</td>\n",
              "      <td>1</td>\n",
              "      <td>0</td>\n",
              "      <td>1</td>\n",
              "      <td>0</td>\n",
              "    </tr>\n",
              "    <tr>\n",
              "      <th>5688</th>\n",
              "      <td>0.5</td>\n",
              "      <td>0.5</td>\n",
              "      <td>1.0</td>\n",
              "      <td>0.333333</td>\n",
              "      <td>0.0</td>\n",
              "      <td>0.250</td>\n",
              "      <td>0.427461</td>\n",
              "      <td>0.030498</td>\n",
              "      <td>0.178004</td>\n",
              "      <td>0.548375</td>\n",
              "      <td>0.584591</td>\n",
              "      <td>0</td>\n",
              "      <td>1</td>\n",
              "      <td>0</td>\n",
              "      <td>0</td>\n",
              "      <td>1</td>\n",
              "      <td>1</td>\n",
              "      <td>0</td>\n",
              "      <td>0</td>\n",
              "      <td>1</td>\n",
              "    </tr>\n",
              "    <tr>\n",
              "      <th>8684</th>\n",
              "      <td>1.0</td>\n",
              "      <td>0.0</td>\n",
              "      <td>0.5</td>\n",
              "      <td>0.000000</td>\n",
              "      <td>1.0</td>\n",
              "      <td>0.125</td>\n",
              "      <td>0.488978</td>\n",
              "      <td>0.485160</td>\n",
              "      <td>0.445857</td>\n",
              "      <td>0.358567</td>\n",
              "      <td>0.094146</td>\n",
              "      <td>0</td>\n",
              "      <td>0</td>\n",
              "      <td>1</td>\n",
              "      <td>1</td>\n",
              "      <td>0</td>\n",
              "      <td>1</td>\n",
              "      <td>0</td>\n",
              "      <td>1</td>\n",
              "      <td>0</td>\n",
              "    </tr>\n",
              "    <tr>\n",
              "      <th>5228</th>\n",
              "      <td>0.5</td>\n",
              "      <td>0.0</td>\n",
              "      <td>0.0</td>\n",
              "      <td>0.666667</td>\n",
              "      <td>0.0</td>\n",
              "      <td>0.250</td>\n",
              "      <td>0.372095</td>\n",
              "      <td>0.252383</td>\n",
              "      <td>0.257258</td>\n",
              "      <td>0.274742</td>\n",
              "      <td>0.390264</td>\n",
              "      <td>1</td>\n",
              "      <td>0</td>\n",
              "      <td>0</td>\n",
              "      <td>0</td>\n",
              "      <td>1</td>\n",
              "      <td>1</td>\n",
              "      <td>0</td>\n",
              "      <td>1</td>\n",
              "      <td>0</td>\n",
              "    </tr>\n",
              "    <tr>\n",
              "      <th>11688</th>\n",
              "      <td>0.5</td>\n",
              "      <td>0.5</td>\n",
              "      <td>0.0</td>\n",
              "      <td>0.000000</td>\n",
              "      <td>0.0</td>\n",
              "      <td>0.250</td>\n",
              "      <td>0.521104</td>\n",
              "      <td>0.515968</td>\n",
              "      <td>0.619623</td>\n",
              "      <td>0.159897</td>\n",
              "      <td>0.181452</td>\n",
              "      <td>0</td>\n",
              "      <td>0</td>\n",
              "      <td>1</td>\n",
              "      <td>1</td>\n",
              "      <td>0</td>\n",
              "      <td>1</td>\n",
              "      <td>0</td>\n",
              "      <td>0</td>\n",
              "      <td>1</td>\n",
              "    </tr>\n",
              "  </tbody>\n",
              "</table>\n",
              "</div>"
            ],
            "text/plain": [
              "                 Income Level  ...  Own Your Home_Yes\n",
              "Customer Number                ...                   \n",
              "17575                     0.5  ...                  0\n",
              "5688                      0.5  ...                  1\n",
              "8684                      1.0  ...                  0\n",
              "5228                      0.5  ...                  0\n",
              "11688                     0.5  ...                  1\n",
              "\n",
              "[5 rows x 20 columns]"
            ]
          },
          "metadata": {},
          "execution_count": 30
        }
      ]
    },
    {
      "cell_type": "markdown",
      "metadata": {
        "id": "-NrbmpbYUY5k"
      },
      "source": [
        "Data sudah di transformasi"
      ]
    },
    {
      "cell_type": "markdown",
      "metadata": {
        "id": "NpeIUPF7UZYJ"
      },
      "source": [
        "### Handling Imbalance Data"
      ]
    },
    {
      "cell_type": "code",
      "metadata": {
        "colab": {
          "base_uri": "https://localhost:8080/",
          "height": 269
        },
        "id": "7lFt7kqNVMbg",
        "outputId": "74164d14-d6cf-4337-dd63-1f3ed3e0343b"
      },
      "source": [
        "y_train.value_counts().plot(kind='bar')\n",
        "plt.xticks(rotation=0)\n",
        "plt.show()"
      ],
      "execution_count": null,
      "outputs": [
        {
          "output_type": "display_data",
          "data": {
            "image/png": "[encoded data removed]",
            "text/plain": [
              "<Figure size 432x288 with 1 Axes>"
            ]
          },
          "metadata": {
            "needs_background": "light"
          }
        }
      ]
    },
    {
      "cell_type": "markdown",
      "metadata": {
        "id": "DcBfIg2vUe_w"
      },
      "source": [
        "Data yang kita gunakan memiliki label yang tidak imbang, dimana jika dilihat dari bar chart diatas perbandingan kelas sangat jauh. sehingga perlu di seimbangkan jumlahnya agar data tidak cenderung berat di salah satu kelas saja."
      ]
    },
    {
      "cell_type": "code",
      "metadata": {
        "id": "Sn8pS3MNUd_O"
      },
      "source": [
        "from imblearn.over_sampling import SMOTE\n",
        "smote = SMOTE(sampling_strategy='minority', k_neighbors=5)\n",
        "X_smote, y_smote = smote.fit_resample(X_train, y_train)"
      ],
      "execution_count": null,
      "outputs": []
    },
    {
      "cell_type": "markdown",
      "metadata": {
        "id": "aXO0ICRrVVel"
      },
      "source": [
        "Untuk mengatasi imbalance class, kami menggunakan fungsi SMOTE untuk melakukan upsampling."
      ]
    },
    {
      "cell_type": "code",
      "metadata": {
        "colab": {
          "base_uri": "https://localhost:8080/",
          "height": 269
        },
        "id": "tGJQQ9EnWz4C",
        "outputId": "2752c5db-4412-4f89-b902-568f80c5062a"
      },
      "source": [
        "y_smote.value_counts().sort_values(ascending=False).plot(kind='bar')\n",
        "plt.xticks(rotation=0)\n",
        "plt.show()"
      ],
      "execution_count": null,
      "outputs": [
        {
          "output_type": "display_data",
          "data": {
            "image/png": "[encoded data removed]",
            "text/plain": [
              "<Figure size 432x288 with 1 Axes>"
            ]
          },
          "metadata": {
            "needs_background": "light"
          }
        }
      ]
    },
    {
      "cell_type": "markdown",
      "metadata": {
        "id": "oIysJNQkVsVJ"
      },
      "source": [
        "Setelah dilakukan upsampling, jumlah data class sudah sama sehingga sudah siap untuk dilakukan modelling."
      ]
    },
    {
      "cell_type": "markdown",
      "metadata": {
        "id": "Z0CLJv4--Iol"
      },
      "source": [
        "## Modelling"
      ]
    },
    {
      "cell_type": "code",
      "metadata": {
        "id": "Fn677R7Q-OzQ"
      },
      "source": [
        "from sklearn.metrics import roc_auc_score, accuracy_score, confusion_matrix, classification_report, precision_score, recall_score, f1_score"
      ],
      "execution_count": null,
      "outputs": []
    },
    {
      "cell_type": "code",
      "metadata": {
        "colab": {
          "base_uri": "https://localhost:8080/"
        },
        "id": "HMRFG4LRDjvs",
        "outputId": "18d206e9-32a9-4725-862e-5e1c0e92ca4b"
      },
      "source": [
        "X_train.columns"
      ],
      "execution_count": null,
      "outputs": [
        {
          "output_type": "execute_result",
          "data": {
            "text/plain": [
              "Index(['Income Level', '# Bank Accounts Open', 'Credit Rating',\n",
              "       '# Credit Cards Held', '# Homes Owned', 'Household Size',\n",
              "       'Average Balance', 'Q1 Balance', 'Q2 Balance', 'Q3 Balance',\n",
              "       'Q4 Balance', 'Reward_Air Miles', 'Reward_Cash Back', 'Reward_Points',\n",
              "       'Mailer Type_Letter', 'Mailer Type_Postcard', 'Overdraft Protection_No',\n",
              "       'Overdraft Protection_Yes', 'Own Your Home_No', 'Own Your Home_Yes'],\n",
              "      dtype='object')"
            ]
          },
          "metadata": {},
          "execution_count": 35
        }
      ]
    },
    {
      "cell_type": "markdown",
      "metadata": {
        "id": "Lx3nXgsB9cbH"
      },
      "source": [
        "### **K-NN MODEL**"
      ]
    },
    {
      "cell_type": "code",
      "metadata": {
        "colab": {
          "base_uri": "https://localhost:8080/"
        },
        "id": "_yr9B0vF9b8I",
        "outputId": "d3260a5d-409a-4047-aeac-0e8d88bc92dc"
      },
      "source": [
        "from sklearn.neighbors import KNeighborsClassifier\n",
        "\n",
        "model_knn = KNeighborsClassifier()\n",
        "model_knn.fit(X_train, y_train)\n",
        "\n",
        "y_pred_knn = model_knn.predict(X_test)\n",
        "y_proba_knn = model_knn.predict_proba(X_test)[:,1]\n",
        "\n",
        "print('KNN : ', accuracy_score(y_test,y_pred_knn))\n",
        "print(confusion_matrix(y_test,y_pred_knn))\n",
        "print('precision', precision_score(y_test,y_pred_knn))\n",
        "print('recall', recall_score(y_test,y_pred_knn))\n",
        "print('f1_score', f1_score(y_test,y_pred_knn))\n",
        "print('Roc_AUC', roc_auc_score(y_test,y_proba_knn))"
      ],
      "execution_count": null,
      "outputs": [
        {
          "output_type": "stream",
          "name": "stdout",
          "text": [
            "KNN :  0.9441045606229144\n",
            "[[3393   24]\n",
            " [ 177    2]]\n",
            "precision 0.07692307692307693\n",
            "recall 0.0111731843575419\n",
            "f1_score 0.01951219512195122\n",
            "Roc_AUC 0.5841536648011995\n"
          ]
        }
      ]
    },
    {
      "cell_type": "code",
      "metadata": {
        "colab": {
          "base_uri": "https://localhost:8080/"
        },
        "id": "8SQPM-in-mbV",
        "outputId": "b26cf796-bff9-433d-8caf-11f4158b7957"
      },
      "source": [
        "from sklearn.neighbors import KNeighborsClassifier\n",
        "\n",
        "model_knn_smote = KNeighborsClassifier()\n",
        "model_knn_smote.fit(X_smote, y_smote)\n",
        "\n",
        "\n",
        "y_pred_knn_smote = model_knn_smote.predict(X_test)\n",
        "y_proba_knn_smote = model_knn_smote.predict_proba(X_test)[:,1]\n",
        "\n",
        "print('KNN : ', accuracy_score(y_test,y_pred_knn_smote))\n",
        "print(confusion_matrix(y_test,y_pred_knn_smote))\n",
        "print('precision', precision_score(y_test,y_pred_knn_smote))\n",
        "print('recall', recall_score(y_test,y_pred_knn_smote))\n",
        "print('f1_score', f1_score(y_test,y_pred_knn_smote))\n",
        "print('Roc_AUC', roc_auc_score(y_test,y_proba_knn_smote))"
      ],
      "execution_count": null,
      "outputs": [
        {
          "output_type": "stream",
          "name": "stdout",
          "text": [
            "KNN :  0.771134593993326\n",
            "[[2714  703]\n",
            " [ 120   59]]\n",
            "precision 0.07742782152230972\n",
            "recall 0.329608938547486\n",
            "f1_score 0.12539851222104145\n",
            "Roc_AUC 0.6080687590637022\n"
          ]
        }
      ]
    },
    {
      "cell_type": "markdown",
      "metadata": {
        "id": "AEADpubw-y9d"
      },
      "source": [
        "### **Naive Bayes**"
      ]
    },
    {
      "cell_type": "code",
      "metadata": {
        "colab": {
          "base_uri": "https://localhost:8080/"
        },
        "id": "3-Ucs1t0--Xx",
        "outputId": "5a58d016-35bf-485b-a59b-4b65023e4935"
      },
      "source": [
        "from sklearn import naive_bayes\n",
        "from sklearn import metrics\n",
        "\n",
        "model_nb = naive_bayes.BernoulliNB()\n",
        "model_nb.fit(X_train, y_train)\n",
        "\n",
        "y_pred_nb = model_nb.predict(X_test)\n",
        "y_proba_nb = model_nb.predict_proba(X_test)[:,1]\n",
        "\n",
        "print('Naive Bayes : ', accuracy_score(y_test,y_pred_nb))\n",
        "print(confusion_matrix(y_test,y_pred_nb))\n",
        "print('precision', precision_score(y_test,y_pred_nb))\n",
        "print('recall', recall_score(y_test,y_pred_nb))\n",
        "print('f1_score', f1_score(y_test,y_pred_nb))\n",
        "print('Roc_AUC', roc_auc_score(y_test,y_proba_nb))"
      ],
      "execution_count": null,
      "outputs": [
        {
          "output_type": "stream",
          "name": "stdout",
          "text": [
            "Naive Bayes :  0.9502224694104561\n",
            "[[3417    0]\n",
            " [ 179    0]]\n",
            "precision 0.0\n",
            "recall 0.0\n",
            "f1_score 0.0\n",
            "Roc_AUC 0.7415175192064652\n"
          ]
        }
      ]
    },
    {
      "cell_type": "code",
      "metadata": {
        "colab": {
          "base_uri": "https://localhost:8080/"
        },
        "id": "l9uj9Wz4_YE8",
        "outputId": "831b112d-9f2d-44f2-e385-6a7931663dcc"
      },
      "source": [
        "from sklearn import naive_bayes\n",
        "from sklearn import metrics\n",
        "\n",
        "model_nb_smote = naive_bayes.BernoulliNB()\n",
        "model_nb_smote.fit(X_smote, y_smote)\n",
        "\n",
        "y_pred_nb_smote = model_nb_smote.predict(X_test)\n",
        "y_proba_nb_smote = model_nb_smote.predict_proba(X_test)[:,1]\n",
        "\n",
        "print('Naive Bayes : ', accuracy_score(y_test,y_pred_nb_smote))\n",
        "print(confusion_matrix(y_test,y_pred_nb_smote))\n",
        "print('precision', precision_score(y_test,y_pred_nb_smote))\n",
        "print('recall', recall_score(y_test,y_pred_nb_smote))\n",
        "print('f1_score', f1_score(y_test,y_pred_nb_smote))\n",
        "print('Roc_AUC', roc_auc_score(y_test,y_proba_nb_smote))"
      ],
      "execution_count": null,
      "outputs": [
        {
          "output_type": "stream",
          "name": "stdout",
          "text": [
            "Naive Bayes :  0.6387652947719689\n",
            "[[2180 1237]\n",
            " [  62  117]]\n",
            "precision 0.086410635155096\n",
            "recall 0.6536312849162011\n",
            "f1_score 0.15264187866927595\n",
            "Roc_AUC 0.6858674095836951\n"
          ]
        }
      ]
    },
    {
      "cell_type": "markdown",
      "metadata": {
        "id": "MH26XOgCG4Eo"
      },
      "source": [
        "### **Logistic Regression**"
      ]
    },
    {
      "cell_type": "code",
      "metadata": {
        "colab": {
          "base_uri": "https://localhost:8080/"
        },
        "id": "6SH8KdCVGrtP",
        "outputId": "a832acbd-8709-430f-f21d-4c825664e8be"
      },
      "source": [
        "from sklearn.linear_model import LogisticRegression\n",
        "\n",
        "model_lr = LogisticRegression()\n",
        "model_lr.fit(X_train, y_train)\n",
        "\n",
        "y_pred_lr = model_lr.predict(X_test)\n",
        "y_proba_lr = model_lr.predict_proba(X_test)[:,1]\n",
        "\n",
        "print('Logistic Regression : ', accuracy_score(y_test,y_pred_lr))\n",
        "print(confusion_matrix(y_test,y_pred_lr))\n",
        "print('precision', precision_score(y_test,y_pred_lr))\n",
        "print('recall', recall_score(y_test,y_pred_lr))\n",
        "print('f1_score', f1_score(y_test,y_pred_lr))\n",
        "print('Roc_AUC', roc_auc_score(y_test,y_proba_lr))"
      ],
      "execution_count": null,
      "outputs": [
        {
          "output_type": "stream",
          "name": "stdout",
          "text": [
            "Logistic Regression :  0.9502224694104561\n",
            "[[3417    0]\n",
            " [ 179    0]]\n",
            "precision 0.0\n",
            "recall 0.0\n",
            "f1_score 0.0\n",
            "Roc_AUC 0.7629303368141219\n"
          ]
        }
      ]
    },
    {
      "cell_type": "code",
      "metadata": {
        "id": "kG9G38YRHc64",
        "colab": {
          "base_uri": "https://localhost:8080/"
        },
        "outputId": "a034c1a6-df48-439b-867e-656da6634a07"
      },
      "source": [
        "from sklearn.linear_model import LogisticRegression\n",
        "\n",
        "model_lr_smote = LogisticRegression()\n",
        "model_lr_smote.fit(X_smote, y_smote)\n",
        "\n",
        "y_pred_lr_smote = model_lr_smote.predict(X_test)\n",
        "y_proba_lr_smote = model_lr_smote.predict_proba(X_test)[:,1]\n",
        "\n",
        "print('Logistic Regression : ', accuracy_score(y_test,y_pred_lr_smote))\n",
        "print(confusion_matrix(y_test,y_pred_lr_smote))\n",
        "print('precision', precision_score(y_test,y_pred_lr_smote))\n",
        "print('recall', recall_score(y_test,y_pred_lr_smote))\n",
        "print('f1_score', f1_score(y_test,y_pred_lr_smote))\n",
        "print('Roc_AUC', roc_auc_score(y_test,y_proba_lr_smote))"
      ],
      "execution_count": null,
      "outputs": [
        {
          "output_type": "stream",
          "name": "stdout",
          "text": [
            "Logistic Regression :  0.6879866518353727\n",
            "[[2354 1063]\n",
            " [  59  120]]\n",
            "precision 0.1014370245139476\n",
            "recall 0.6703910614525139\n",
            "f1_score 0.1762114537444934\n",
            "Roc_AUC 0.7595639940291967\n"
          ]
        }
      ]
    },
    {
      "cell_type": "markdown",
      "metadata": {
        "id": "Kk1pDDzxIuj6"
      },
      "source": [
        "### **Decision Tree**"
      ]
    },
    {
      "cell_type": "code",
      "metadata": {
        "colab": {
          "base_uri": "https://localhost:8080/"
        },
        "id": "NzmDorCFImw0",
        "outputId": "1e1dc355-829e-4693-a1c0-612080da5023"
      },
      "source": [
        "from sklearn.tree import DecisionTreeClassifier\n",
        "\n",
        "model_dt = DecisionTreeClassifier()\n",
        "model_dt.fit(X_train, y_train)\n",
        "\n",
        "y_pred_dt = model_dt.predict(X_test)\n",
        "y_proba_dt = model_dt.predict_proba(X_test)[:,1]\n",
        "\n",
        "print('Decision Tree : ', accuracy_score(y_test,y_pred_dt))\n",
        "print(confusion_matrix(y_test,y_pred_dt))\n",
        "print('precision', precision_score(y_test,y_pred_dt))\n",
        "print('recall', recall_score(y_test,y_pred_dt))\n",
        "print('f1_score', f1_score(y_test,y_pred_dt))\n",
        "print('Roc_AUC', roc_auc_score(y_test,y_proba_dt))"
      ],
      "execution_count": null,
      "outputs": [
        {
          "output_type": "stream",
          "name": "stdout",
          "text": [
            "Decision Tree :  0.8993325917686318\n",
            "[[3209  208]\n",
            " [ 154   25]]\n",
            "precision 0.1072961373390558\n",
            "recall 0.13966480446927373\n",
            "f1_score 0.12135922330097088\n",
            "Roc_AUC 0.5393963472156142\n"
          ]
        }
      ]
    },
    {
      "cell_type": "code",
      "metadata": {
        "colab": {
          "base_uri": "https://localhost:8080/"
        },
        "id": "RqPVzYY3I7NT",
        "outputId": "9451c287-f3f8-4606-f04e-4ccd54fc07c6"
      },
      "source": [
        "from sklearn.tree import DecisionTreeClassifier\n",
        "\n",
        "model_dt_smote = DecisionTreeClassifier()\n",
        "model_dt_smote.fit(X_smote, y_smote)\n",
        "\n",
        "y_pred_dt_smote = model_dt_smote.predict(X_test)\n",
        "y_proba_dt_smote = model_dt_smote.predict_proba(X_test)[:,1]\n",
        "\n",
        "print('Decision Tree : ', accuracy_score(y_test,y_pred_dt_smote))\n",
        "print(confusion_matrix(y_test,y_pred_dt_smote))\n",
        "print('precision', precision_score(y_test,y_pred_dt_smote))\n",
        "print('recall', recall_score(y_test,y_pred_dt_smote))\n",
        "print('f1_score', f1_score(y_test,y_pred_dt_smote))\n",
        "print('Roc_AUC', roc_auc_score(y_test,y_proba_dt_smote))"
      ],
      "execution_count": null,
      "outputs": [
        {
          "output_type": "stream",
          "name": "stdout",
          "text": [
            "Decision Tree :  0.8887652947719689\n",
            "[[3170  247]\n",
            " [ 153   26]]\n",
            "precision 0.09523809523809523\n",
            "recall 0.1452513966480447\n",
            "f1_score 0.11504424778761062\n",
            "Roc_AUC 0.5364828829889331\n"
          ]
        }
      ]
    },
    {
      "cell_type": "markdown",
      "metadata": {
        "id": "npfoiPgaJZCo"
      },
      "source": [
        "### **Support Vector Machine**"
      ]
    },
    {
      "cell_type": "code",
      "metadata": {
        "colab": {
          "base_uri": "https://localhost:8080/"
        },
        "id": "Oiy6ODNYJGRW",
        "outputId": "784720b2-bb16-443b-cd29-97831f902db0"
      },
      "source": [
        "from sklearn.svm import SVC\n",
        "\n",
        "model_svm = SVC(probability=True)\n",
        "model_svm.fit(X_train, y_train)\n",
        "\n",
        "y_pred_svm = model_svm.predict(X_test)\n",
        "y_proba_svm = model_svm.predict_proba(X_test)[:,1]\n",
        "\n",
        "print('Support Vector Machine : ', accuracy_score(y_test,y_pred_svm))\n",
        "print(confusion_matrix(y_test,y_pred_svm))\n",
        "print('precision', precision_score(y_test,y_pred_svm))\n",
        "print('recall', recall_score(y_test,y_pred_svm))\n",
        "print('f1_score', f1_score(y_test,y_pred_svm))\n",
        "print('Roc_AUC', roc_auc_score(y_test,y_proba_svm))"
      ],
      "execution_count": null,
      "outputs": [
        {
          "output_type": "stream",
          "name": "stdout",
          "text": [
            "Support Vector Machine :  0.9502224694104561\n",
            "[[3417    0]\n",
            " [ 179    0]]\n",
            "precision 0.0\n",
            "recall 0.0\n",
            "f1_score 0.0\n",
            "Roc_AUC 0.592067594985964\n"
          ]
        }
      ]
    },
    {
      "cell_type": "code",
      "metadata": {
        "colab": {
          "base_uri": "https://localhost:8080/"
        },
        "id": "AyqwY6BxJvqt",
        "outputId": "07ce55cc-11aa-473b-b24f-1464cab18917"
      },
      "source": [
        "from sklearn.svm import SVC\n",
        "\n",
        "model_svm_smote = SVC(probability=True)\n",
        "model_svm_smote.fit(X_smote, y_smote)\n",
        "\n",
        "y_pred_svm_smote = model_svm_smote.predict(X_test)\n",
        "y_proba_svm_smote = model_svm_smote.predict_proba(X_test)[:,1]\n",
        "\n",
        "print('Support Vector Machine : ', accuracy_score(y_test,y_pred_svm_smote))\n",
        "print(confusion_matrix(y_test,y_pred_svm_smote))\n",
        "print('precision', precision_score(y_test,y_pred_svm_smote))\n",
        "print('recall', recall_score(y_test,y_pred_svm_smote))\n",
        "print('f1_score', f1_score(y_test,y_pred_svm_smote))\n",
        "print('Roc_AUC', roc_auc_score(y_test,y_proba_svm_smote))"
      ],
      "execution_count": null,
      "outputs": [
        {
          "output_type": "stream",
          "name": "stdout",
          "text": [
            "Support Vector Machine :  0.6960511679644049\n",
            "[[2399 1018]\n",
            " [  75  104]]\n",
            "precision 0.09269162210338681\n",
            "recall 0.5810055865921788\n",
            "f1_score 0.1598770176787087\n",
            "Roc_AUC 0.6968035275479324\n"
          ]
        }
      ]
    },
    {
      "cell_type": "markdown",
      "metadata": {
        "id": "CBGnCYOQK443"
      },
      "source": [
        "### **XGBoost**"
      ]
    },
    {
      "cell_type": "code",
      "metadata": {
        "id": "B4jO7q6_K4GI",
        "colab": {
          "base_uri": "https://localhost:8080/"
        },
        "outputId": "6c716ae1-a008-4913-fa7a-2fe3810581e5"
      },
      "source": [
        "from xgboost import XGBClassifier\n",
        "\n",
        "model_xgb = XGBClassifier()\n",
        "model_xgb.fit(X_train,y_train)\n",
        "\n",
        "y_pred_xgb = model_xgb.predict(X_test)\n",
        "y_proba_xgb = model_xgb.predict_proba(X_test)[:,1]\n",
        "\n",
        "print('XGB : ', accuracy_score(y_test,y_pred_xgb))\n",
        "print(confusion_matrix(y_test,y_pred_xgb))\n",
        "print('precision', precision_score(y_test,y_pred_xgb))\n",
        "print('recall', recall_score(y_test,y_pred_xgb))\n",
        "print('f1_score', f1_score(y_test,y_pred_xgb))\n",
        "print('Roc_AUC', roc_auc_score(y_test,y_proba_xgb))"
      ],
      "execution_count": null,
      "outputs": [
        {
          "output_type": "stream",
          "name": "stdout",
          "text": [
            "XGB :  0.9502224694104561\n",
            "[[3417    0]\n",
            " [ 179    0]]\n",
            "precision 0.0\n",
            "recall 0.0\n",
            "f1_score 0.0\n",
            "Roc_AUC 0.7524356528236242\n"
          ]
        }
      ]
    },
    {
      "cell_type": "code",
      "metadata": {
        "id": "rJxqWxMqLKMo",
        "colab": {
          "base_uri": "https://localhost:8080/"
        },
        "outputId": "bcac690a-44e1-4cc9-c260-1ca5d810ff1f"
      },
      "source": [
        "from xgboost import XGBClassifier\n",
        "\n",
        "model_xgb_smote = XGBClassifier()\n",
        "model_xgb_smote.fit(X_smote,y_smote)\n",
        "\n",
        "y_pred_xgb_smote = model_xgb_smote.predict(X_test)\n",
        "y_proba_xgb_smote = model_xgb_smote.predict_proba(X_test)[:,1]\n",
        "\n",
        "print('XGB : ', accuracy_score(y_test,y_pred_xgb_smote))\n",
        "print(confusion_matrix(y_test,y_pred_xgb_smote))\n",
        "print('precision', precision_score(y_test,y_pred_xgb_smote))\n",
        "print('recall', recall_score(y_test,y_pred_xgb_smote))\n",
        "print('f1_score', f1_score(y_test,y_pred_xgb_smote))\n",
        "print('auc', roc_auc_score(y_test,y_proba_xgb_smote))"
      ],
      "execution_count": null,
      "outputs": [
        {
          "output_type": "stream",
          "name": "stdout",
          "text": [
            "XGB :  0.9385428253615128\n",
            "[[3358   59]\n",
            " [ 162   17]]\n",
            "precision 0.2236842105263158\n",
            "recall 0.09497206703910614\n",
            "f1_score 0.13333333333333333\n",
            "auc 0.7355818672003114\n"
          ]
        }
      ]
    },
    {
      "cell_type": "markdown",
      "metadata": {
        "id": "Ycdv-DnFLdDU"
      },
      "source": [
        "### **Random Forest**"
      ]
    },
    {
      "cell_type": "code",
      "metadata": {
        "id": "dOmxAngFLjLc",
        "colab": {
          "base_uri": "https://localhost:8080/"
        },
        "outputId": "ae7c5863-e370-47f4-bf9c-29ceea07b208"
      },
      "source": [
        "from sklearn.ensemble import RandomForestClassifier\n",
        "\n",
        "rfc = RandomForestClassifier()\n",
        "rfc.fit(X_train,y_train)\n",
        "\n",
        "y_pred_rf = rfc.predict(X_test)\n",
        "y_proba_rf = rfc.predict_proba(X_test)[:,1]\n",
        "\n",
        "print('RandomForest : ', accuracy_score(y_test,y_pred_rf))\n",
        "print(confusion_matrix(y_test,y_pred_rf))\n",
        "print(classification_report(y_test,y_pred_rf))\n",
        "print('precision', precision_score(y_test,y_pred_rf))\n",
        "print('recall', recall_score(y_test,y_pred_rf))\n",
        "print('f1_score', f1_score(y_test,y_pred_rf))\n",
        "print('auc', roc_auc_score(y_test,y_proba_rf))"
      ],
      "execution_count": null,
      "outputs": [
        {
          "output_type": "stream",
          "name": "stdout",
          "text": [
            "RandomForest :  0.949666295884316\n",
            "[[3415    2]\n",
            " [ 179    0]]\n",
            "              precision    recall  f1-score   support\n",
            "\n",
            "           0       0.95      1.00      0.97      3417\n",
            "           1       0.00      0.00      0.00       179\n",
            "\n",
            "    accuracy                           0.95      3596\n",
            "   macro avg       0.48      0.50      0.49      3596\n",
            "weighted avg       0.90      0.95      0.93      3596\n",
            "\n",
            "precision 0.0\n",
            "recall 0.0\n",
            "f1_score 0.0\n",
            "auc 0.6940960658423296\n"
          ]
        }
      ]
    },
    {
      "cell_type": "code",
      "metadata": {
        "id": "nd3bB-PHLkC5",
        "colab": {
          "base_uri": "https://localhost:8080/"
        },
        "outputId": "3f40e5a2-b4e1-4129-ef81-a3a82b951590"
      },
      "source": [
        "from sklearn.ensemble import RandomForestClassifier\n",
        "\n",
        "rfc_smote = RandomForestClassifier()\n",
        "rfc_smote.fit(X_smote,y_smote)\n",
        "\n",
        "y_pred_rf_smote = rfc_smote.predict(X_test)\n",
        "y_proba_rf_smote = rfc_smote.predict_proba(X_test)[:,1]\n",
        "\n",
        "print('RandomForest : ', accuracy_score(y_test,y_pred_rf_smote))\n",
        "print(confusion_matrix(y_test,y_pred_rf_smote))\n",
        "print(classification_report(y_test,y_pred_rf_smote))\n",
        "print('precision', precision_score(y_test,y_pred_rf_smote))\n",
        "print('recall', recall_score(y_test,y_pred_rf_smote))\n",
        "print('f1_score', f1_score(y_test,y_pred_rf_smote))\n",
        "print('auc', roc_auc_score(y_test,y_proba_rf_smote))"
      ],
      "execution_count": null,
      "outputs": [
        {
          "output_type": "stream",
          "name": "stdout",
          "text": [
            "RandomForest :  0.9379866518353727\n",
            "[[3365   52]\n",
            " [ 171    8]]\n",
            "              precision    recall  f1-score   support\n",
            "\n",
            "           0       0.95      0.98      0.97      3417\n",
            "           1       0.13      0.04      0.07       179\n",
            "\n",
            "    accuracy                           0.94      3596\n",
            "   macro avg       0.54      0.51      0.52      3596\n",
            "weighted avg       0.91      0.94      0.92      3596\n",
            "\n",
            "precision 0.13333333333333333\n",
            "recall 0.0446927374301676\n",
            "f1_score 0.06694560669456066\n",
            "auc 0.7008949665082409\n"
          ]
        }
      ]
    },
    {
      "cell_type": "markdown",
      "metadata": {
        "id": "NKcxWTm1h_Ys"
      },
      "source": [
        "### Result"
      ]
    },
    {
      "cell_type": "code",
      "metadata": {
        "colab": {
          "base_uri": "https://localhost:8080/",
          "height": 269
        },
        "id": "R-8eOpVhReal",
        "outputId": "4139fcee-365a-4ee7-8c41-c7b779bc6dd8"
      },
      "source": [
        "models = pd.DataFrame({\n",
        "    'Model': ['KNN', 'Naive Bayes', 'Logistic Regression', \n",
        "              'Decision Tree', 'SVM', 'XGBOOST', 'Random Forest'],\n",
        "    'Accuracy Score': [accuracy_score(y_test,y_pred_knn), accuracy_score(y_test,y_pred_nb), \n",
        "              accuracy_score(y_test,y_pred_lr), accuracy_score(y_test,y_pred_dt), accuracy_score(y_test,y_pred_svm), \n",
        "              accuracy_score(y_test,y_pred_xgb), accuracy_score(y_test,y_pred_rf)],\n",
        "    'AUC Score' : [roc_auc_score(y_test,y_proba_knn), roc_auc_score(y_test,y_proba_nb), \n",
        "               roc_auc_score(y_test,y_proba_lr), roc_auc_score(y_test,y_proba_dt), roc_auc_score(y_test,y_proba_svm), \n",
        "              roc_auc_score(y_test,y_proba_xgb), roc_auc_score(y_test,y_proba_rf)],\n",
        "    'Accuracy Score SMOTE': [accuracy_score(y_test,y_pred_knn_smote), accuracy_score(y_test,y_pred_nb_smote), \n",
        "              accuracy_score(y_test,y_pred_lr_smote), accuracy_score(y_test,y_pred_dt_smote), accuracy_score(y_test,y_pred_svm_smote), \n",
        "              accuracy_score(y_test,y_pred_xgb_smote), accuracy_score(y_test,y_pred_rf_smote)],\n",
        "    'AUC Score SMOTE' : [roc_auc_score(y_test,y_proba_knn_smote), roc_auc_score(y_test,y_proba_nb_smote), \n",
        "               roc_auc_score(y_test,y_proba_lr_smote), roc_auc_score(y_test,y_proba_dt_smote), roc_auc_score(y_test,y_proba_svm_smote), \n",
        "              roc_auc_score(y_test,y_proba_xgb_smote), roc_auc_score(y_test,y_proba_rf_smote)]\n",
        "    })\n",
        "models"
      ],
      "execution_count": null,
      "outputs": [
        {
          "output_type": "execute_result",
          "data": {
            "text/html": [
              "<div>\n",
              "<style scoped>\n",
              "    .dataframe tbody tr th:only-of-type {\n",
              "        vertical-align: middle;\n",
              "    }\n",
              "\n",
              "    .dataframe tbody tr th {\n",
              "        vertical-align: top;\n",
              "    }\n",
              "\n",
              "    .dataframe thead th {\n",
              "        text-align: right;\n",
              "    }\n",
              "</style>\n",
              "<table border=\"1\" class=\"dataframe\">\n",
              "  <thead>\n",
              "    <tr style=\"text-align: right;\">\n",
              "      <th></th>\n",
              "      <th>Model</th>\n",
              "      <th>Accuracy Score</th>\n",
              "      <th>AUC Score</th>\n",
              "      <th>Accuracy Score SMOTE</th>\n",
              "      <th>AUC Score SMOTE</th>\n",
              "    </tr>\n",
              "  </thead>\n",
              "  <tbody>\n",
              "    <tr>\n",
              "      <th>0</th>\n",
              "      <td>KNN</td>\n",
              "      <td>0.944105</td>\n",
              "      <td>0.584154</td>\n",
              "      <td>0.776140</td>\n",
              "      <td>0.600720</td>\n",
              "    </tr>\n",
              "    <tr>\n",
              "      <th>1</th>\n",
              "      <td>Naive Bayes</td>\n",
              "      <td>0.950222</td>\n",
              "      <td>0.741518</td>\n",
              "      <td>0.638765</td>\n",
              "      <td>0.685867</td>\n",
              "    </tr>\n",
              "    <tr>\n",
              "      <th>2</th>\n",
              "      <td>Logistic Regression</td>\n",
              "      <td>0.950222</td>\n",
              "      <td>0.762930</td>\n",
              "      <td>0.687987</td>\n",
              "      <td>0.759564</td>\n",
              "    </tr>\n",
              "    <tr>\n",
              "      <th>3</th>\n",
              "      <td>Decision Tree</td>\n",
              "      <td>0.899333</td>\n",
              "      <td>0.539396</td>\n",
              "      <td>0.888765</td>\n",
              "      <td>0.536483</td>\n",
              "    </tr>\n",
              "    <tr>\n",
              "      <th>4</th>\n",
              "      <td>SVM</td>\n",
              "      <td>0.950222</td>\n",
              "      <td>0.592068</td>\n",
              "      <td>0.696051</td>\n",
              "      <td>0.696804</td>\n",
              "    </tr>\n",
              "    <tr>\n",
              "      <th>5</th>\n",
              "      <td>XGBOOST</td>\n",
              "      <td>0.950222</td>\n",
              "      <td>0.752436</td>\n",
              "      <td>0.938543</td>\n",
              "      <td>0.735582</td>\n",
              "    </tr>\n",
              "    <tr>\n",
              "      <th>6</th>\n",
              "      <td>Random Forest</td>\n",
              "      <td>0.949666</td>\n",
              "      <td>0.694096</td>\n",
              "      <td>0.937987</td>\n",
              "      <td>0.700895</td>\n",
              "    </tr>\n",
              "  </tbody>\n",
              "</table>\n",
              "</div>"
            ],
            "text/plain": [
              "                 Model  Accuracy Score  ...  Accuracy Score SMOTE  AUC Score SMOTE\n",
              "0                  KNN        0.944105  ...              0.776140         0.600720\n",
              "1          Naive Bayes        0.950222  ...              0.638765         0.685867\n",
              "2  Logistic Regression        0.950222  ...              0.687987         0.759564\n",
              "3        Decision Tree        0.899333  ...              0.888765         0.536483\n",
              "4                  SVM        0.950222  ...              0.696051         0.696804\n",
              "5              XGBOOST        0.950222  ...              0.938543         0.735582\n",
              "6        Random Forest        0.949666  ...              0.937987         0.700895\n",
              "\n",
              "[7 rows x 5 columns]"
            ]
          },
          "metadata": {},
          "execution_count": 65
        }
      ]
    },
    {
      "cell_type": "markdown",
      "metadata": {
        "id": "f4ycm3v4kYDG"
      },
      "source": [
        "## Seleksi Fitur"
      ]
    },
    {
      "cell_type": "markdown",
      "metadata": {
        "id": "P8B0r52P6G1e"
      },
      "source": [
        "### SelectKBest"
      ]
    },
    {
      "cell_type": "code",
      "metadata": {
        "id": "F0yONbhF1M_2"
      },
      "source": [
        "from sklearn.feature_selection import SelectKBest\n",
        "from sklearn.feature_selection import chi2"
      ],
      "execution_count": null,
      "outputs": []
    },
    {
      "cell_type": "markdown",
      "metadata": {
        "id": "2Cg-NvVwiI1z"
      },
      "source": [
        "Memanggil functuin SelectKBest dengan score function chi2 dan k sebanyak 20"
      ]
    },
    {
      "cell_type": "code",
      "metadata": {
        "id": "raVCuaR96CAd"
      },
      "source": [
        "bestfeature = SelectKBest(score_func=chi2, k=20)\n",
        "fit = bestfeature.fit(X_train,y_train)\n",
        "dfscores = pd.DataFrame(fit.scores_)\n",
        "dfcolums = pd.DataFrame(X_train.columns)"
      ],
      "execution_count": null,
      "outputs": []
    },
    {
      "cell_type": "code",
      "metadata": {
        "colab": {
          "base_uri": "https://localhost:8080/"
        },
        "id": "rqsMhi0_6DOJ",
        "outputId": "552bf76c-ebb6-49b7-9543-9fccaeda523c"
      },
      "source": [
        "featureScores = pd.concat([dfcolums, dfscores],axis=1)\n",
        "featureScores.columns = ['Field', 'Score']\n",
        "print(featureScores.nlargest(20,'Score'))"
      ],
      "execution_count": null,
      "outputs": [
        {
          "output_type": "stream",
          "name": "stdout",
          "text": [
            "                       Field       Score\n",
            "2              Credit Rating  117.623677\n",
            "14        Mailer Type_Letter   67.786526\n",
            "15      Mailer Type_Postcard   65.780238\n",
            "12          Reward_Cash Back   44.917344\n",
            "11          Reward_Air Miles   43.210968\n",
            "0               Income Level   20.647586\n",
            "7                 Q1 Balance    0.449279\n",
            "5             Household Size    0.164540\n",
            "1       # Bank Accounts Open    0.115990\n",
            "9                 Q3 Balance    0.111927\n",
            "17  Overdraft Protection_Yes    0.082209\n",
            "3        # Credit Cards Held    0.045535\n",
            "4              # Homes Owned    0.022034\n",
            "16   Overdraft Protection_No    0.014484\n",
            "18          Own Your Home_No    0.011392\n",
            "6            Average Balance    0.010187\n",
            "19         Own Your Home_Yes    0.006280\n",
            "10                Q4 Balance    0.005470\n",
            "13             Reward_Points    0.004162\n",
            "8                 Q2 Balance    0.000926\n"
          ]
        }
      ]
    },
    {
      "cell_type": "markdown",
      "metadata": {
        "id": "YPC2bs5wiRcJ"
      },
      "source": [
        "Setelah dilakukan SeleckKBest ditemukan bahwa Q1 Balance, Q3 Balance, Credit Rating, Mailer Type_Letter, Mailer Type_Postcard, Reward_Cash Back, Income Level, Reward_Air Miles, dan Average Balance mendapatkan nilai yang cukup tinggi sebagai atribut/fitur untuk target kelas Offer Accepted  "
      ]
    },
    {
      "cell_type": "markdown",
      "metadata": {
        "id": "erSA-EBXYs98"
      },
      "source": [
        "### Modelling Setelah Feature Selection"
      ]
    },
    {
      "cell_type": "code",
      "metadata": {
        "id": "Oveuzts6Y01j"
      },
      "source": [
        "# After Select K-Best\n",
        "\n",
        "X = df_copy[['Credit Rating','Mailer Type_Letter','Mailer Type_Postcard','Reward_Cash Back','Reward_Air Miles']]\n",
        "y = df['Offer Accepted']"
      ],
      "execution_count": null,
      "outputs": []
    },
    {
      "cell_type": "code",
      "metadata": {
        "id": "KGFiJFGYZLLK"
      },
      "source": [
        "from sklearn.model_selection import train_test_split\n",
        "\n",
        "X_train, X_test, y_train, y_test = train_test_split(X,y, test_size=0.2, random_state=123)"
      ],
      "execution_count": null,
      "outputs": []
    },
    {
      "cell_type": "code",
      "metadata": {
        "id": "1QK3uETPZGNh"
      },
      "source": [
        "from sklearn.preprocessing import MinMaxScaler\n",
        "scaler = MinMaxScaler()\n",
        "\n",
        "columns= X_train.columns[:11].values\n",
        "\n",
        "scaler.fit(X_train[columns])\n",
        "\n",
        "X_train[columns] = scaler.transform(X_train[columns])\n",
        "X_test[columns] = scaler.transform(X_test[columns])"
      ],
      "execution_count": null,
      "outputs": []
    },
    {
      "cell_type": "code",
      "metadata": {
        "id": "Xi6kTDszZPOj"
      },
      "source": [
        "from imblearn.over_sampling import SMOTE\n",
        "smote = SMOTE(sampling_strategy='minority', k_neighbors=5)\n",
        "X_smote, y_smote = smote.fit_resample(X_train, y_train)"
      ],
      "execution_count": null,
      "outputs": []
    },
    {
      "cell_type": "markdown",
      "metadata": {
        "id": "PjF_fshilyAn"
      },
      "source": [
        "#### **XGBoost**"
      ]
    },
    {
      "cell_type": "code",
      "metadata": {
        "colab": {
          "base_uri": "https://localhost:8080/"
        },
        "id": "PoFyyoanisKJ",
        "outputId": "d9a41d33-2fa9-4dd7-f5cf-9e688ea6cef7"
      },
      "source": [
        "from xgboost import XGBClassifier\n",
        "\n",
        "model_xgb_kb = XGBClassifier()\n",
        "model_xgb_kb.fit(X_smote,y_smote)\n",
        "\n",
        "y_pred_xgb_kb = model_xgb_kb.predict(X_test)\n",
        "y_proba_xgb_kb = model_xgb_kb.predict_proba(X_test)[:,1]\n",
        "\n",
        "print('XGB : ', accuracy_score(y_test,y_pred_xgb_kb))\n",
        "print(confusion_matrix(y_test,y_pred_xgb_kb))\n",
        "print('precision', precision_score(y_test,y_pred_xgb_kb))\n",
        "print('recall', recall_score(y_test,y_pred_xgb_kb))\n",
        "print('f1_score', f1_score(y_test,y_pred_xgb_kb))\n",
        "print('auc', roc_auc_score(y_test,y_proba_xgb_kb))"
      ],
      "execution_count": null,
      "outputs": [
        {
          "output_type": "stream",
          "name": "stdout",
          "text": [
            "XGB :  0.6398776418242491\n",
            "[[2171 1246]\n",
            " [  49  130]]\n",
            "precision 0.09447674418604651\n",
            "recall 0.7262569832402235\n",
            "f1_score 0.16720257234726688\n",
            "auc 0.7388255894369755\n"
          ]
        }
      ]
    },
    {
      "cell_type": "code",
      "metadata": {
        "colab": {
          "base_uri": "https://localhost:8080/"
        },
        "id": "3t2XXJPTY3h2",
        "outputId": "83be442c-99fd-4f48-fcfc-e6b7363fc07a"
      },
      "source": [
        "from xgboost import XGBClassifier\n",
        "\n",
        "model_xgb_smote_kb = XGBClassifier()\n",
        "model_xgb_smote_kb.fit(X_smote,y_smote)\n",
        "\n",
        "y_pred_xgb_smote_kb = model_xgb_smote_kb.predict(X_test)\n",
        "y_proba_xgb_smote_kb = model_xgb_smote_kb.predict_proba(X_test)[:,1]\n",
        "\n",
        "print('XGB : ', accuracy_score(y_test,y_pred_xgb_smote_kb))\n",
        "print(confusion_matrix(y_test,y_pred_xgb_smote_kb))\n",
        "print('precision', precision_score(y_test,y_pred_xgb_smote_kb))\n",
        "print('recall', recall_score(y_test,y_pred_xgb_smote_kb))\n",
        "print('f1_score', f1_score(y_test,y_pred_xgb_smote_kb))\n",
        "print('auc', roc_auc_score(y_test,y_proba_xgb_smote_kb))"
      ],
      "execution_count": null,
      "outputs": [
        {
          "output_type": "stream",
          "name": "stdout",
          "text": [
            "XGB :  0.6398776418242491\n",
            "[[2171 1246]\n",
            " [  49  130]]\n",
            "precision 0.09447674418604651\n",
            "recall 0.7262569832402235\n",
            "f1_score 0.16720257234726688\n",
            "auc 0.7388255894369755\n"
          ]
        }
      ]
    },
    {
      "cell_type": "markdown",
      "metadata": {
        "id": "gkDFzwEsl1Wu"
      },
      "source": [
        "#### **Random Forest**"
      ]
    },
    {
      "cell_type": "code",
      "metadata": {
        "colab": {
          "base_uri": "https://localhost:8080/"
        },
        "id": "Z9O8cOlGYsVM",
        "outputId": "c7f771cf-e957-4bdc-bbf0-7d84c038ba16"
      },
      "source": [
        "from sklearn.ensemble import RandomForestClassifier\n",
        "\n",
        "rfc_kb = RandomForestClassifier()\n",
        "rfc_kb.fit(X_train,y_train)\n",
        "\n",
        "y_pred_rfc_kb = rfc_kb.predict(X_test)\n",
        "y_proba_rfc_kb = rfc_kb.predict_proba(X_test)[:,1]\n",
        "\n",
        "print('RandomForest : ', accuracy_score(y_test,y_pred_rfc_kb))\n",
        "print(confusion_matrix(y_test,y_pred_rfc_kb))\n",
        "print(classification_report(y_test,y_pred_rfc_kb))\n",
        "print('precision', precision_score(y_test,y_pred_rfc_kb))\n",
        "print('recall', recall_score(y_test,y_pred_rfc_kb))\n",
        "print('f1_score', f1_score(y_test,y_pred_rfc_kb))\n",
        "print('auc', roc_auc_score(y_test,y_proba_rfc_kb))"
      ],
      "execution_count": null,
      "outputs": [
        {
          "output_type": "stream",
          "name": "stdout",
          "text": [
            "RandomForest :  0.9502224694104561\n",
            "[[3417    0]\n",
            " [ 179    0]]\n",
            "              precision    recall  f1-score   support\n",
            "\n",
            "           0       0.95      1.00      0.97      3417\n",
            "           1       0.00      0.00      0.00       179\n",
            "\n",
            "    accuracy                           0.95      3596\n",
            "   macro avg       0.48      0.50      0.49      3596\n",
            "weighted avg       0.90      0.95      0.93      3596\n",
            "\n",
            "precision 0.0\n",
            "recall 0.0\n",
            "f1_score 0.0\n",
            "auc 0.7388255894369755\n"
          ]
        }
      ]
    },
    {
      "cell_type": "code",
      "metadata": {
        "colab": {
          "base_uri": "https://localhost:8080/"
        },
        "id": "wybch84BY0lE",
        "outputId": "9302b8d0-78c4-4dc2-e5ef-0001d3800e81"
      },
      "source": [
        "from sklearn.ensemble import RandomForestClassifier\n",
        "\n",
        "rfc_smote_kb = RandomForestClassifier()\n",
        "rfc_smote_kb.fit(X_smote,y_smote)\n",
        "\n",
        "y_pred_rfc_smote_kb = rfc_smote_kb.predict(X_test)\n",
        "y_proba_rfc_smote_kb = rfc_smote_kb.predict_proba(X_test)[:,1]\n",
        "\n",
        "print('RandomForest : ', accuracy_score(y_test,y_pred_rfc_smote_kb))\n",
        "print(confusion_matrix(y_test,y_pred_rfc_smote_kb))\n",
        "print(classification_report(y_test,y_pred_rfc_smote_kb))\n",
        "print('precision', precision_score(y_test,y_pred_rfc_smote_kb))\n",
        "print('recall', recall_score(y_test,y_pred_rfc_smote_kb))\n",
        "print('f1_score', f1_score(y_test,y_pred_rfc_smote_kb))\n",
        "print('auc', roc_auc_score(y_test,y_proba_rfc_smote_kb))"
      ],
      "execution_count": null,
      "outputs": [
        {
          "output_type": "stream",
          "name": "stdout",
          "text": [
            "RandomForest :  0.5862068965517241\n",
            "[[1972 1445]\n",
            " [  43  136]]\n",
            "              precision    recall  f1-score   support\n",
            "\n",
            "           0       0.98      0.58      0.73      3417\n",
            "           1       0.09      0.76      0.15       179\n",
            "\n",
            "    accuracy                           0.59      3596\n",
            "   macro avg       0.53      0.67      0.44      3596\n",
            "weighted avg       0.93      0.59      0.70      3596\n",
            "\n",
            "precision 0.08602150537634409\n",
            "recall 0.7597765363128491\n",
            "f1_score 0.15454545454545457\n",
            "auc 0.7388255894369755\n"
          ]
        }
      ]
    },
    {
      "cell_type": "markdown",
      "metadata": {
        "id": "B0jsLpFfl3LA"
      },
      "source": [
        "### Result"
      ]
    },
    {
      "cell_type": "code",
      "metadata": {
        "colab": {
          "base_uri": "https://localhost:8080/",
          "height": 112
        },
        "id": "j26KkrKMiMkc",
        "outputId": "3f3464d4-0efe-429a-947b-8eb0139eecbd"
      },
      "source": [
        "models = pd.DataFrame({\n",
        "    'Model': ['XGBOOST', 'Random Forest'],\n",
        "    'Accuracy Score': [accuracy_score(y_test,y_pred_xgb_kb), accuracy_score(y_test,y_pred_rfc_kb)],\n",
        "    'AUC Score' : [roc_auc_score(y_test,y_proba_xgb_kb), roc_auc_score(y_test,y_proba_rfc_kb)],\n",
        "    'Accuracy Score SMOTE': [accuracy_score(y_test,y_pred_xgb_smote_kb), accuracy_score(y_test,y_pred_rfc_smote_kb)],\n",
        "    'AUC Score SMOTE' : [roc_auc_score(y_test,y_proba_xgb_smote_kb), roc_auc_score(y_test,y_proba_rfc_smote_kb)]\n",
        "    })\n",
        "models"
      ],
      "execution_count": null,
      "outputs": [
        {
          "output_type": "execute_result",
          "data": {
            "text/html": [
              "<div>\n",
              "<style scoped>\n",
              "    .dataframe tbody tr th:only-of-type {\n",
              "        vertical-align: middle;\n",
              "    }\n",
              "\n",
              "    .dataframe tbody tr th {\n",
              "        vertical-align: top;\n",
              "    }\n",
              "\n",
              "    .dataframe thead th {\n",
              "        text-align: right;\n",
              "    }\n",
              "</style>\n",
              "<table border=\"1\" class=\"dataframe\">\n",
              "  <thead>\n",
              "    <tr style=\"text-align: right;\">\n",
              "      <th></th>\n",
              "      <th>Model</th>\n",
              "      <th>Accuracy Score</th>\n",
              "      <th>AUC Score</th>\n",
              "      <th>Accuracy Score SMOTE</th>\n",
              "      <th>AUC Score SMOTE</th>\n",
              "    </tr>\n",
              "  </thead>\n",
              "  <tbody>\n",
              "    <tr>\n",
              "      <th>0</th>\n",
              "      <td>XGBOOST</td>\n",
              "      <td>0.639878</td>\n",
              "      <td>0.738826</td>\n",
              "      <td>0.639878</td>\n",
              "      <td>0.738826</td>\n",
              "    </tr>\n",
              "    <tr>\n",
              "      <th>1</th>\n",
              "      <td>Random Forest</td>\n",
              "      <td>0.950222</td>\n",
              "      <td>0.738826</td>\n",
              "      <td>0.586207</td>\n",
              "      <td>0.738826</td>\n",
              "    </tr>\n",
              "  </tbody>\n",
              "</table>\n",
              "</div>"
            ],
            "text/plain": [
              "           Model  Accuracy Score  ...  Accuracy Score SMOTE  AUC Score SMOTE\n",
              "0        XGBOOST        0.639878  ...              0.639878         0.738826\n",
              "1  Random Forest        0.950222  ...              0.586207         0.738826\n",
              "\n",
              "[2 rows x 5 columns]"
            ]
          },
          "metadata": {},
          "execution_count": 29
        }
      ]
    },
    {
      "cell_type": "markdown",
      "metadata": {
        "id": "oOjZqFeKbvCF"
      },
      "source": [
        "# Kesimpulan"
      ]
    },
    {
      "cell_type": "markdown",
      "metadata": {
        "id": "OyS71wwSe9Da"
      },
      "source": [
        "Percobaan yang kami lakukan adalah menggunakan 7 algoritma berbeda, mulai dari algoritma KNN, Naive Bayes, Logistic Regression, Decision Tree, SVM, XGBOOST, dan Random Forest. Selain itu kami juga mencoba algoritma tersebut dengan 2 tipe data, data yang pertama adalah data yang belum di oversampling, sedangkan data yang kedua adalah data yang sudah dilakukan oversampling menggunakan metode SMOTE pada label. Selanjutnya kami juga melakukan percobaan dengan menguji 2 algoritma, yaitu algoritma XGBOOST dan Random Forest yang merupakan algoritma ensembled dengan menggunakan data yang sudah di filter menggunakan score SelectKBest yang melebihi 10. Dari semua percobaan diatas kami menyimpulkan bahwa algoritma XGBOOST menggunakan seluruh fitur awal dan data yang sudah dilakukan oversampling adalah model terbaik, dengan accuracy 0.9385428253615128 dan auc =  0.7345559419465277.\n",
        "\n",
        "<br>Pada model ini kita juga memperhatikan nilai precision karena kita lebih menghindari kondisi FP (False Positif). dengan XGBoost memiliki nilai precision yang lebih tinggi dari pada model yang lainnya. selain itu nilai auc score nya juga lebih tinggi, menandakan bahwa model sudah cukup bisa membedakan data positif atau data negatif. kemungkinan nilai precision dan recall kecil karena data kami yang imbalance sehingga jumlah data positif sangat sedikit. kemungkinan jika nanti model mendapatkan data baru untuk dilatih, dapat menaikkan nilai metrics nya."
      ]
    },
    {
      "cell_type": "code",
      "metadata": {
        "id": "shbCS77MZ2Qb"
      },
      "source": [
        ""
      ],
      "execution_count": null,
      "outputs": []
    }
  ]
}